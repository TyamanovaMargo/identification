{
  "nbformat": 4,
  "nbformat_minor": 0,
  "metadata": {
    "colab": {
      "provenance": [],
      "machine_shape": "hm",
      "gpuType": "L4",
      "include_colab_link": true
    },
    "kernelspec": {
      "name": "python3",
      "display_name": "Python 3"
    },
    "accelerator": "GPU"
  },
  "cells": [
    {
      "cell_type": "markdown",
      "metadata": {
        "id": "view-in-github",
        "colab_type": "text"
      },
      "source": [
        "<a href=\"https://colab.research.google.com/github/TyamanovaMargo/identification/blob/main/%22BERT_MULTICLASSIFICATION_GENRE_ipynb%22.ipynb\" target=\"_parent\"><img src=\"https://colab.research.google.com/assets/colab-badge.svg\" alt=\"Open In Colab\"/></a>"
      ]
    },
    {
      "cell_type": "code",
      "metadata": {
        "id": "len8Qi91y5FX",
        "outputId": "1a459766-5bc0-4398-d3cc-bf055b8e163b",
        "colab": {
          "base_uri": "https://localhost:8080/"
        }
      },
      "source": [
        "!pip install wget\n",
        "!pip install transformers"
      ],
      "execution_count": 1,
      "outputs": [
        {
          "output_type": "stream",
          "name": "stdout",
          "text": [
            "Collecting wget\n",
            "  Downloading wget-3.2.zip (10 kB)\n",
            "  Preparing metadata (setup.py) ... \u001b[?25l\u001b[?25hdone\n",
            "Building wheels for collected packages: wget\n",
            "  Building wheel for wget (setup.py) ... \u001b[?25l\u001b[?25hdone\n",
            "  Created wheel for wget: filename=wget-3.2-py3-none-any.whl size=9656 sha256=ca9d7955871b9e3e617156cc2da484400e15708f007035c986f3a4f24670e12a\n",
            "  Stored in directory: /root/.cache/pip/wheels/40/b3/0f/a40dbd1c6861731779f62cc4babcb234387e11d697df70ee97\n",
            "Successfully built wget\n",
            "Installing collected packages: wget\n",
            "Successfully installed wget-3.2\n",
            "Requirement already satisfied: transformers in /usr/local/lib/python3.11/dist-packages (4.50.0)\n",
            "Requirement already satisfied: filelock in /usr/local/lib/python3.11/dist-packages (from transformers) (3.18.0)\n",
            "Requirement already satisfied: huggingface-hub<1.0,>=0.26.0 in /usr/local/lib/python3.11/dist-packages (from transformers) (0.29.3)\n",
            "Requirement already satisfied: numpy>=1.17 in /usr/local/lib/python3.11/dist-packages (from transformers) (2.0.2)\n",
            "Requirement already satisfied: packaging>=20.0 in /usr/local/lib/python3.11/dist-packages (from transformers) (24.2)\n",
            "Requirement already satisfied: pyyaml>=5.1 in /usr/local/lib/python3.11/dist-packages (from transformers) (6.0.2)\n",
            "Requirement already satisfied: regex!=2019.12.17 in /usr/local/lib/python3.11/dist-packages (from transformers) (2024.11.6)\n",
            "Requirement already satisfied: requests in /usr/local/lib/python3.11/dist-packages (from transformers) (2.32.3)\n",
            "Requirement already satisfied: tokenizers<0.22,>=0.21 in /usr/local/lib/python3.11/dist-packages (from transformers) (0.21.1)\n",
            "Requirement already satisfied: safetensors>=0.4.3 in /usr/local/lib/python3.11/dist-packages (from transformers) (0.5.3)\n",
            "Requirement already satisfied: tqdm>=4.27 in /usr/local/lib/python3.11/dist-packages (from transformers) (4.67.1)\n",
            "Requirement already satisfied: fsspec>=2023.5.0 in /usr/local/lib/python3.11/dist-packages (from huggingface-hub<1.0,>=0.26.0->transformers) (2025.3.0)\n",
            "Requirement already satisfied: typing-extensions>=3.7.4.3 in /usr/local/lib/python3.11/dist-packages (from huggingface-hub<1.0,>=0.26.0->transformers) (4.12.2)\n",
            "Requirement already satisfied: charset-normalizer<4,>=2 in /usr/local/lib/python3.11/dist-packages (from requests->transformers) (3.4.1)\n",
            "Requirement already satisfied: idna<4,>=2.5 in /usr/local/lib/python3.11/dist-packages (from requests->transformers) (3.10)\n",
            "Requirement already satisfied: urllib3<3,>=1.21.1 in /usr/local/lib/python3.11/dist-packages (from requests->transformers) (2.3.0)\n",
            "Requirement already satisfied: certifi>=2017.4.17 in /usr/local/lib/python3.11/dist-packages (from requests->transformers) (2025.1.31)\n"
          ]
        }
      ]
    },
    {
      "cell_type": "markdown",
      "metadata": {
        "id": "0QA9w6dbwfzz"
      },
      "source": [
        "# BERT Fine Tuning for Multi Class Text Classification\n",
        "\n",
        "This notebook contains code to fine tune a pretrained BERT language model to a specific classification task.\n",
        "As BERT model interface the Huggingface library with a PyTorch backend is used.\n",
        "\n",
        "In this notebook, the model has been fine tuned with the German 10kGNAD Dataset but could easily be fine tuned on any other classification dataset.\n",
        "\n",
        "The code was implemented based on the huggingface example scripts for glue tasks fine tuning (https://github.com/huggingface/transformers/blob/5bfcd0485ece086ebcbed2d008813037968a9e58/examples/run_glue.py#L128) and the blog post by Chris McCormick (http://mccormickml.com/2019/07/22/BERT-fine-tuning/).\n"
      ]
    },
    {
      "cell_type": "code",
      "metadata": {
        "id": "tKjjVxVDKsS1"
      },
      "source": [
        "import os\n",
        "import time\n",
        "import datetime\n",
        "import random\n",
        "from google.colab import drive\n",
        "\n",
        "import pandas as pd\n",
        "import numpy as np\n",
        "from sklearn.metrics import matthews_corrcoef\n",
        "from sklearn.metrics import accuracy_score\n",
        "\n",
        "from transformers import AutoModelForSequenceClassification\n",
        "from transformers import AutoConfig\n",
        "from torch.optim import AdamW\n",
        "from transformers import AutoTokenizer\n",
        "from transformers import get_linear_schedule_with_warmup\n",
        "\n",
        "import matplotlib.pyplot as plt\n",
        "import matplotlib.colors\n",
        "import seaborn as sns\n",
        "import IPython\n",
        "\n",
        "import torch\n",
        "from torch.utils.data import TensorDataset, random_split\n",
        "from torch.utils.data import DataLoader, RandomSampler, SequentialSampler"
      ],
      "execution_count": 3,
      "outputs": []
    },
    {
      "cell_type": "markdown",
      "metadata": {
        "id": "KZxf_D2gAdTO"
      },
      "source": [
        "## Load data"
      ]
    },
    {
      "cell_type": "code",
      "source": [
        "drive.mount('/content/drive')"
      ],
      "metadata": {
        "colab": {
          "base_uri": "https://localhost:8080/"
        },
        "id": "CKGW39P8fm33",
        "outputId": "63ef35ac-46a5-4609-ac97-78d68ab3f6f6"
      },
      "execution_count": 4,
      "outputs": [
        {
          "output_type": "stream",
          "name": "stdout",
          "text": [
            "Mounted at /content/drive\n"
          ]
        }
      ]
    },
    {
      "cell_type": "code",
      "metadata": {
        "id": "yJzGKGLX9AxN"
      },
      "source": [
        "# Download dataset\n",
        "# df = pd.read_csv(\"/content/drive/MyDrive/Colab Notebooks/Multiclassification_dataset/dataset_all_pos_dir_multiclass_low_case.csv\",\n",
        "#                  encoding=\"utf-8\",\n",
        "#                  header=0)\n",
        "\n",
        "# df = pd.read_csv(\"/content/drive/MyDrive/Colab Notebooks/Multiclassification_dataset/dataset_all_pos_dir_multiclass.csv\",\n",
        "#                  encoding=\"utf-8\",\n",
        "#                  header=0)\n",
        "\n",
        "df = pd.read_csv(\"/content/drive/MyDrive/Colab Notebooks/Multiclassification_dataset/dataset_all_pos_dir_multiclass_first_chunk.csv\",\n",
        "                 encoding=\"utf-8\",\n",
        "                 header=0)\n",
        "\n",
        "# Download dataset without punctuation\n",
        "# df = pd.read_csv('/content/drive/MyDrive/Colab Notebooks/Multiclassification_dataset/dataset_all_pos_dir_multiclass_without_punc_FILTERED_nun.csv',\n",
        "#                 encoding=\"utf-8\")\n",
        "#                 #  skiprows=1,)\n"
      ],
      "execution_count": 78,
      "outputs": []
    },
    {
      "cell_type": "code",
      "source": [
        "print(df.head())\n",
        "\n",
        "\n"
      ],
      "metadata": {
        "colab": {
          "base_uri": "https://localhost:8080/"
        },
        "id": "kREGRbGkQDL8",
        "outputId": "af5b4486-198a-407c-e8a8-406b962e4079"
      },
      "execution_count": 79,
      "outputs": [
        {
          "output_type": "stream",
          "name": "stdout",
          "text": [
            "                                                text  label\n",
            "0  Дом потерянных душ Романтические детективы Евг...      0\n",
            "1  Стихи для мертвецов Дуглас Престон Звезды миро...      0\n",
            "2  Сказка о смерти Мартен С. Снейдер #3 В Берне о...      0\n",
            "3  Темная материя Город в Нигде Джейсон Дессен, в...      0\n",
            "4  Позже Темная башня (АСТ) Джейми Конклин, живущ...      0\n"
          ]
        }
      ]
    },
    {
      "cell_type": "code",
      "metadata": {
        "id": "UuN3olL1s1R0",
        "colab": {
          "base_uri": "https://localhost:8080/"
        },
        "outputId": "39d5b8dc-4299-45ca-8b5b-957fdded3e86"
      },
      "source": [
        "texts = df.text.values\n",
        "label_cats = df.label.astype('category').cat\n",
        "print(label_cats)\n",
        "# List of label names (str)\n",
        "label_names = label_cats.categories\n",
        "print(label_names)\n",
        "# List of label ids (int, in range (0,num_classes-1))\n",
        "labels = label_cats.codes\n",
        "print(labels)\n",
        "\n"
      ],
      "execution_count": 80,
      "outputs": [
        {
          "output_type": "stream",
          "name": "stdout",
          "text": [
            "<pandas.core.arrays.categorical.CategoricalAccessor object at 0x7db0fafb1b90>\n",
            "Index([0, 1, 2, 3, 4, 5, 6, 7, 8, 9, 10], dtype='int64')\n",
            "0        0\n",
            "1        0\n",
            "2        0\n",
            "3        0\n",
            "4        0\n",
            "        ..\n",
            "7329    10\n",
            "7330    10\n",
            "7331    10\n",
            "7332    10\n",
            "7333    10\n",
            "Length: 7334, dtype: int8\n"
          ]
        }
      ]
    },
    {
      "cell_type": "code",
      "source": [
        "print(\"Label Names (should be 0 to 10):\", label_names)\n",
        "print(\"Labels (should match Label Names):\", labels[:10])\n"
      ],
      "metadata": {
        "colab": {
          "base_uri": "https://localhost:8080/"
        },
        "id": "T1SZFliXIOpx",
        "outputId": "0951e6f9-61b5-40ef-ab00-c7774099f6c7"
      },
      "execution_count": 81,
      "outputs": [
        {
          "output_type": "stream",
          "name": "stdout",
          "text": [
            "Label Names (should be 0 to 10): Index([0, 1, 2, 3, 4, 5, 6, 7, 8, 9, 10], dtype='int64')\n",
            "Labels (should match Label Names): 0    0\n",
            "1    0\n",
            "2    0\n",
            "3    0\n",
            "4    0\n",
            "5    0\n",
            "6    0\n",
            "7    0\n",
            "8    0\n",
            "9    0\n",
            "dtype: int8\n"
          ]
        }
      ]
    },
    {
      "cell_type": "code",
      "source": [
        "import pandas as pd\n",
        "\n",
        "# Example DataFrame (assuming you have loaded it already)\n",
        "# df = pd.read_csv('your_file.csv')\n",
        "\n",
        "# Ensure that labels are correctly mapped and exclude any non-numeric entries\n",
        "label_cats = df.label.astype('category').cat\n",
        "label_names = label_cats.categories\n",
        "\n",
        "# Map labels to integers\n",
        "labels = label_cats.codes\n",
        "\n",
        "# Create a DataFrame with text and corresponding labels\n",
        "df_mapped = df.copy()\n",
        "df_mapped['label_mapped'] = labels\n",
        "\n",
        "# Print out the first few rows of the DataFrame to verify\n",
        "print(df_mapped[['text', 'label_mapped']].head())\n",
        "print(df_mapped[['text', 'label_mapped']].iloc[500:510])\n",
        "print(df_mapped[['text', 'label_mapped']].tail())"
      ],
      "metadata": {
        "colab": {
          "base_uri": "https://localhost:8080/"
        },
        "id": "z0_t6GpdLz6a",
        "outputId": "bb3d9ced-b6a7-4f7b-9019-20a781b6009a"
      },
      "execution_count": 82,
      "outputs": [
        {
          "output_type": "stream",
          "name": "stdout",
          "text": [
            "                                                text  label_mapped\n",
            "0  Дом потерянных душ Романтические детективы Евг...             0\n",
            "1  Стихи для мертвецов Дуглас Престон Звезды миро...             0\n",
            "2  Сказка о смерти Мартен С. Снейдер #3 В Берне о...             0\n",
            "3  Темная материя Город в Нигде Джейсон Дессен, в...             0\n",
            "4  Позже Темная башня (АСТ) Джейми Конклин, живущ...             0\n",
            "                                                  text  label_mapped\n",
            "500  Регуляторы Тэк #2 Прекрасный летний денек в ма...             0\n",
            "501  Девушка из моря Национальный бестселлер Британ...             0\n",
            "502  Убийственно жив Неизвестный маньяк не просто у...             0\n",
            "503  Мактуб. Ядовитый любовник Лана Мейер Восточные...             0\n",
            "504  Фирма Эта фирма погасила его кредит. Предостав...             0\n",
            "505  Летающие убийцы Спецназ ГРУ В горах Кавказа об...             0\n",
            "506  Игра с огнем (сборник) Звезды мирового детекти...             0\n",
            "507  Родная кровь В глубине штата Мэн, на берегу за...             0\n",
            "508  Ледовый патруль Арктическая база. Полярный спе...             0\n",
            "509  Надежда умирает последней Иностранный детектив...             0\n",
            "                                                   text  label_mapped\n",
            "7329  Беженец Trendbooks WOW Самая важная книга года...            10\n",
            "7330  Куриный бульон для души: 101 история о животны...            10\n",
            "7331  О чем весь город говорит В 1889 году молодой ш...            10\n",
            "7332  Удивительный зять Глава 1 Роскошная семейная в...            10\n",
            "7333  Самородок Перла Добрые книги для детей и взрос...            10\n"
          ]
        }
      ]
    },
    {
      "cell_type": "markdown",
      "metadata": {
        "id": "fSsp_l_yoNJf"
      },
      "source": [
        "## Tokenize Data"
      ]
    },
    {
      "cell_type": "code",
      "metadata": {
        "id": "5UUTkMV4yDTY"
      },
      "source": [
        "# model_name = \"DeepPavlov/rubert-base-cased\"\n",
        "# model_name ='DeepPavlov/rubert-base-cased'\n",
        "model_name ='bert-base-multilingual-cased'\n",
        "MAX_INPUT_LENGTH = 512"
      ],
      "execution_count": 83,
      "outputs": []
    },
    {
      "cell_type": "code",
      "metadata": {
        "id": "4-OE6oDZoMIG",
        "outputId": "9657f28f-131e-4dfc-8324-da71a5ee88fa",
        "colab": {
          "base_uri": "https://localhost:8080/"
        }
      },
      "source": [
        "# Load the pretrained BERT tokenizer.\n",
        "print(f\"Loading {model_name} tokenizer...\")\n",
        "tokenizer = AutoTokenizer.from_pretrained(model_name)"
      ],
      "execution_count": 84,
      "outputs": [
        {
          "output_type": "stream",
          "name": "stdout",
          "text": [
            "Loading bert-base-multilingual-cased tokenizer...\n"
          ]
        }
      ]
    },
    {
      "cell_type": "code",
      "metadata": {
        "id": "XDkMb1urrIAo",
        "colab": {
          "base_uri": "https://localhost:8080/"
        },
        "outputId": "fe325b4c-893e-4fdc-e808-8e3679940061"
      },
      "source": [
        "input_ids = []\n",
        "attention_masks = []\n",
        "\n",
        "for text in texts:\n",
        "    encoded_dict = tokenizer.encode_plus(\n",
        "        text,\n",
        "        add_special_tokens=True,\n",
        "        max_length=MAX_INPUT_LENGTH,\n",
        "        padding='max_length',\n",
        "        truncation=True,\n",
        "        return_attention_mask=True,\n",
        "        return_tensors='pt'\n",
        "    )\n",
        "\n",
        "    input_ids.append(encoded_dict['input_ids'])\n",
        "    attention_masks.append(encoded_dict['attention_mask'])\n",
        "\n",
        "# Convert lists to tensors\n",
        "input_ids = torch.cat(input_ids, dim=0)\n",
        "attention_masks = torch.cat(attention_masks, dim=0)\n",
        "labels = torch.tensor(labels, dtype=torch.long)\n",
        "\n",
        "# Print the results for debugging\n",
        "print('Original Text:', texts[0])\n",
        "print('Token IDs:', input_ids[0])\n",
        "print('Attention Mask:', attention_masks[0])\n",
        "\n",
        "\n",
        "\n"
      ],
      "execution_count": 85,
      "outputs": [
        {
          "output_type": "stream",
          "name": "stdout",
          "text": [
            "Original Text: Дом потерянных душ Романтические детективы Евгении Кретовой #7 Аделия – потомственная ясновидящая. Во всяком случае, так написано на вывеске ее салона. Поток клиенток, гадания, натальные карты и никакой романтики. Но накануне праздников что-то идет не так: клиентка не может определиться с невестой для сына, проблемы у сестры, странный тип не оставляет Аделию в покое. В итоге она волей-неволей оказывается вовлечена в тайны чужой семейной жизни. Те самые, что обычно прячутся скелетами в шкафу. Романтика, остро приправленная мистикой и загадкой старого преступления – новый детектив от Евгении Кретовой. Дом потерянных душ Пролог Она шагнула к кромке воды, безразлично наблюдая, как темная вода лизнула покрасневшие пальцы на ногах. Потянула за край рубашки, стянула через голову и, не оглядываясь, отбросила прочь, в траву. И только тогда посмотрела через плечо. Шагнула в воду. Ноги скользили по вязкой глине, приходилось цепляться за камыш, пробираться сквозь него осторожно, зябко ежась от ледяных брызг. Шаг за шагом – до шаткого помоста, что упирался подгнившими досками в озерную гладь. Зацепилась рукой за скользкие, облепленные тиной и водорослями доски. И, оттолкнувшись от топкой глины, сделала два гребка от берега. И только тогда оглянулась, посмотрела упрямо. Черная озерная гладь ловила блики заходящего солнца. Неяркого, уже пропитанного золотом надвигающейся осени. Еще один гребок спиной вперед, тихо, как учил когда-то отец. Чтобы не разбудить озерных ду?хов – так говорила мать. Взгляд неотступно следил за тем, кто следовал за ней. Улыбался по-детски криво и наивно. Смотрел жадно и надеялся на игру. Она зло плеснула водой в прозрачно-серые глаза и отплыла к берегу, с удовольствием наблюдая, как темная вода всколыхнулась от ее движения, как закрутилась водоворотом, увлекая неумелую жертву. Как безвольно вскинулись над поверхностью белые руки в мелких, будто манная крупа, веснушках, как узкое лицо накрыло гребнем черной волны, выдавив из легких прощальный крик. В эти последние летние дни озерные омуты подбираются к самому берегу. Глава 1. Салон «Луноликая» Москва, конец декабря, наши дни – Я все-таки не вижу у вас серьезных проблем, – деловитый голос из кабинета, запах восковых свечей и – тонкий, едва уловимый – ла?дана. Таисия подобралась, на цыпочках отошла к своему рабочему месту, взяла телефонную трубку. Сообщила шепотом: – Нет, госпожа АделияМило? сейчас занята и подойти к телефону не может. Тихий голос там, на другом конце провода, прошелестел: – У меня срочный, не терпящий отлагательств вопрос. Госпожа Аделия уверяла, что я смогу его решить, не приезжая к ней повторно. Таисия почесала кончик носа, отозвалась доверительно: – Боюсь, это как раз тот случай, когда заверения бесполезны.\n",
            "Token IDs: tensor([   101,  37106,  10297,  15469,  18971,  10970,  11576,  11148,  36314,\n",
            "         65446,  89353,  59990,  18221,    514,  10541,  14276,  11905,    519,\n",
            "         40035,  17780,    108,    128,    509,  44030,  11502,    100,  37706,\n",
            "         48310,  96947,  53156,  10385,  26325,    119,  12624,  72782,  13393,\n",
            "         28127,    117,  12123,  10122,  48680,  10122,  96195,  14149,  14430,\n",
            "         75431,  10868,  35551,  10179,    119,  11480,  20422,    551,  10783,\n",
            "         28252,  11899,    117,  16616,  72216,    117,  10122,  44422,  34045,\n",
            "         73985,    549,  19544,  67967,  10384,  25122,  31399,    119,  19732,\n",
            "         10122,  17343,  86622,  59784,  41637,  10433,  10791,    118,  11663,\n",
            "           549,  82635,  10375,  12123,    131,    551,  10783,  28252,  10521,\n",
            "         10375,  16087,    555,  35415,  87097, 106364,  10625,    558,  10375,\n",
            "         14149,  98526,  10520,  37060,    117,  44536,    560,  10277,  95212,\n",
            "           117,  32619,  11092,  20844,  10375,  85854,  36829,  29061,    509,\n",
            "         44030,  13564,    543,  10297,  30091,    119,    511,  45184,  13976,\n",
            "         10439,  20929,    118,  10375, 110687,  11742, 102128,  10439,  10541,\n",
            "         11851,  26724,    543,  10475,  69657,  59172,  52834,  10384,  67338,\n",
            "         11075,  17237,    119,  39968, 109550,    117,  10791,  32654,  25484,\n",
            "         65891,  19691,  10625,    558,  11557,  67033,  10508,    543,    565,\n",
            "         10521,  58899,    119,  36314,  24612,    117,  85854,  62735,  10913,\n",
            "        108877,  11548,  37140,  12189,  14397,    549,  10234,  11347,  10746,\n",
            "         14397, 101433,  38494,  77214,    100,  30994,  89353,  59990,  10541,\n",
            "         10332,    514,  10541,  14276,  11905,    519,  40035,  17780,    119,\n",
            "         37106,  10297,  15469,  18971,  10970,  11576,  11148,  35475,  22141,\n",
            "         25428,  79703,  10823, 103614,    551,    551,  21178,  11557,  37634,\n",
            "           117,  13012,  34556,  70667,  10122,  61394,  94811,  10385,    117,\n",
            "         10949,  19710,  11548,  30953,  33190,  11571, 103614,  10297,  10510,\n",
            "         56680,  10695,  55580,  12634,  12118,  12993,  10122,  11279,  82776,\n",
            "           119,  11480,  32127, 103614,  10234,  30213,    557,  83282,  20346,\n",
            "           117,  15888,  18971,  26428,  12798,  83603,    549,    117,  10375,\n",
            "           555,  41824,  10292,  24000,  11833,    117,  10332,  85584,  17969,\n",
            "         16610,  12709,  40697,    117,    543,    559,  41410,  10227,    119,\n",
            "           517,  13721,  31816,  10297,  10513, 104722,  67244,  10179,  12798,\n",
            "           556,  11851,  34521,    119,    533,  51229, 103614,    543,  54173,\n",
            "           119,  19732,  14122,    558,  48613,  10851,  14894,  10783,  10297,\n",
            "           543,  78070,  14397,  55367,  20563,    117, 109228,  15725,  11078,\n",
            "         61409,  10234,  62873,  23879,    117,  12709,  64815,  14133,    558,\n",
            "         10510,  15275,  42366,  13981,  85854,  18256,  10316,  24751,    117,\n",
            "           548,  10385,  12528,  11623,    546,  17254,  11833,  10332,  94693,\n",
            "         40887,  10970, 109300,  46073,  10823,    119,    533,  51229,  10234,\n",
            "         79703,  59828,    100,  10344,  79703,  71501,  10990,  96358,  33580,\n",
            "         10179,    117,  10791,    560,  89534,  17204,  11429,  10823,  60471,\n",
            "         43180,  10344,  12184,  10508,    543,    555,  58758,  12719,  55367,\n",
            "         20004,  10851,    119,  11712,  13317,  20785,  20292,  84043,  11292,\n",
            "         10234,    558,  48613,  10851,  67350,  10205,    117,  58742,  29749,\n",
            "         52045,  30176,  11075,    549,  79200,  97648, 102572,  21357,  10344,\n",
            "         11434,    119,    517,    117,  10332,  10752,  89068,  47695,  31770,\n",
            "         10332,  56575,  14397,  55367,  34652,    117,  61626,  10179,  12500,\n",
            "         55895,  59373,  10521,  10332,  73925,    119,    517,  13721,  31816,\n",
            "           555,  10823,  80318, 103452,    117,  10297,  10513, 104722,  67244,\n",
            "         10179,    560,  35415,  27429,  10316,    119,    532,  65674,  10385,\n",
            "           555,  58758,  11548,  55367,  20004,  10851,  30977,  50301,    542,\n",
            "         58956,  10234,  23089,  72090,  26367,  23716,    119,  21124,  59426,\n",
            "         18632,    117,  15530,  12709,  80465,  11240,  11050,  88615,  10241,\n",
            "         12614,  78465, 103270,  30305,  10625,  85854,  15065,    119,    514,\n",
            "         20904,  13713,  55895,  59373,  11899,    558,  20785,  11075,    543,\n",
            "         75556,    117,  43524,  10316,    117,  10949, 103510,  10517,  15283,\n",
            "           118,  11663,  34606,    119,  88303,  10375,  17257,    102])\n",
            "Attention Mask: tensor([1, 1, 1, 1, 1, 1, 1, 1, 1, 1, 1, 1, 1, 1, 1, 1, 1, 1, 1, 1, 1, 1, 1, 1,\n",
            "        1, 1, 1, 1, 1, 1, 1, 1, 1, 1, 1, 1, 1, 1, 1, 1, 1, 1, 1, 1, 1, 1, 1, 1,\n",
            "        1, 1, 1, 1, 1, 1, 1, 1, 1, 1, 1, 1, 1, 1, 1, 1, 1, 1, 1, 1, 1, 1, 1, 1,\n",
            "        1, 1, 1, 1, 1, 1, 1, 1, 1, 1, 1, 1, 1, 1, 1, 1, 1, 1, 1, 1, 1, 1, 1, 1,\n",
            "        1, 1, 1, 1, 1, 1, 1, 1, 1, 1, 1, 1, 1, 1, 1, 1, 1, 1, 1, 1, 1, 1, 1, 1,\n",
            "        1, 1, 1, 1, 1, 1, 1, 1, 1, 1, 1, 1, 1, 1, 1, 1, 1, 1, 1, 1, 1, 1, 1, 1,\n",
            "        1, 1, 1, 1, 1, 1, 1, 1, 1, 1, 1, 1, 1, 1, 1, 1, 1, 1, 1, 1, 1, 1, 1, 1,\n",
            "        1, 1, 1, 1, 1, 1, 1, 1, 1, 1, 1, 1, 1, 1, 1, 1, 1, 1, 1, 1, 1, 1, 1, 1,\n",
            "        1, 1, 1, 1, 1, 1, 1, 1, 1, 1, 1, 1, 1, 1, 1, 1, 1, 1, 1, 1, 1, 1, 1, 1,\n",
            "        1, 1, 1, 1, 1, 1, 1, 1, 1, 1, 1, 1, 1, 1, 1, 1, 1, 1, 1, 1, 1, 1, 1, 1,\n",
            "        1, 1, 1, 1, 1, 1, 1, 1, 1, 1, 1, 1, 1, 1, 1, 1, 1, 1, 1, 1, 1, 1, 1, 1,\n",
            "        1, 1, 1, 1, 1, 1, 1, 1, 1, 1, 1, 1, 1, 1, 1, 1, 1, 1, 1, 1, 1, 1, 1, 1,\n",
            "        1, 1, 1, 1, 1, 1, 1, 1, 1, 1, 1, 1, 1, 1, 1, 1, 1, 1, 1, 1, 1, 1, 1, 1,\n",
            "        1, 1, 1, 1, 1, 1, 1, 1, 1, 1, 1, 1, 1, 1, 1, 1, 1, 1, 1, 1, 1, 1, 1, 1,\n",
            "        1, 1, 1, 1, 1, 1, 1, 1, 1, 1, 1, 1, 1, 1, 1, 1, 1, 1, 1, 1, 1, 1, 1, 1,\n",
            "        1, 1, 1, 1, 1, 1, 1, 1, 1, 1, 1, 1, 1, 1, 1, 1, 1, 1, 1, 1, 1, 1, 1, 1,\n",
            "        1, 1, 1, 1, 1, 1, 1, 1, 1, 1, 1, 1, 1, 1, 1, 1, 1, 1, 1, 1, 1, 1, 1, 1,\n",
            "        1, 1, 1, 1, 1, 1, 1, 1, 1, 1, 1, 1, 1, 1, 1, 1, 1, 1, 1, 1, 1, 1, 1, 1,\n",
            "        1, 1, 1, 1, 1, 1, 1, 1, 1, 1, 1, 1, 1, 1, 1, 1, 1, 1, 1, 1, 1, 1, 1, 1,\n",
            "        1, 1, 1, 1, 1, 1, 1, 1, 1, 1, 1, 1, 1, 1, 1, 1, 1, 1, 1, 1, 1, 1, 1, 1,\n",
            "        1, 1, 1, 1, 1, 1, 1, 1, 1, 1, 1, 1, 1, 1, 1, 1, 1, 1, 1, 1, 1, 1, 1, 1,\n",
            "        1, 1, 1, 1, 1, 1, 1, 1])\n"
          ]
        }
      ]
    },
    {
      "cell_type": "code",
      "source": [
        "print(tokenizer.encode_plus(\n",
        "    texts[0],\n",
        "    add_special_tokens=True,\n",
        "    max_length=MAX_INPUT_LENGTH,\n",
        "    padding='max_length',\n",
        "    truncation=True,\n",
        "    return_attention_mask=True,\n",
        "    return_tensors='pt'\n",
        "))\n",
        "\n"
      ],
      "metadata": {
        "colab": {
          "base_uri": "https://localhost:8080/"
        },
        "id": "f9Gq2sJLK5Fk",
        "outputId": "26aeb41c-5225-449c-ada2-a705f09b16c6"
      },
      "execution_count": 86,
      "outputs": [
        {
          "output_type": "stream",
          "name": "stdout",
          "text": [
            "{'input_ids': tensor([[   101,  37106,  10297,  15469,  18971,  10970,  11576,  11148,  36314,\n",
            "          65446,  89353,  59990,  18221,    514,  10541,  14276,  11905,    519,\n",
            "          40035,  17780,    108,    128,    509,  44030,  11502,    100,  37706,\n",
            "          48310,  96947,  53156,  10385,  26325,    119,  12624,  72782,  13393,\n",
            "          28127,    117,  12123,  10122,  48680,  10122,  96195,  14149,  14430,\n",
            "          75431,  10868,  35551,  10179,    119,  11480,  20422,    551,  10783,\n",
            "          28252,  11899,    117,  16616,  72216,    117,  10122,  44422,  34045,\n",
            "          73985,    549,  19544,  67967,  10384,  25122,  31399,    119,  19732,\n",
            "          10122,  17343,  86622,  59784,  41637,  10433,  10791,    118,  11663,\n",
            "            549,  82635,  10375,  12123,    131,    551,  10783,  28252,  10521,\n",
            "          10375,  16087,    555,  35415,  87097, 106364,  10625,    558,  10375,\n",
            "          14149,  98526,  10520,  37060,    117,  44536,    560,  10277,  95212,\n",
            "            117,  32619,  11092,  20844,  10375,  85854,  36829,  29061,    509,\n",
            "          44030,  13564,    543,  10297,  30091,    119,    511,  45184,  13976,\n",
            "          10439,  20929,    118,  10375, 110687,  11742, 102128,  10439,  10541,\n",
            "          11851,  26724,    543,  10475,  69657,  59172,  52834,  10384,  67338,\n",
            "          11075,  17237,    119,  39968, 109550,    117,  10791,  32654,  25484,\n",
            "          65891,  19691,  10625,    558,  11557,  67033,  10508,    543,    565,\n",
            "          10521,  58899,    119,  36314,  24612,    117,  85854,  62735,  10913,\n",
            "         108877,  11548,  37140,  12189,  14397,    549,  10234,  11347,  10746,\n",
            "          14397, 101433,  38494,  77214,    100,  30994,  89353,  59990,  10541,\n",
            "          10332,    514,  10541,  14276,  11905,    519,  40035,  17780,    119,\n",
            "          37106,  10297,  15469,  18971,  10970,  11576,  11148,  35475,  22141,\n",
            "          25428,  79703,  10823, 103614,    551,    551,  21178,  11557,  37634,\n",
            "            117,  13012,  34556,  70667,  10122,  61394,  94811,  10385,    117,\n",
            "          10949,  19710,  11548,  30953,  33190,  11571, 103614,  10297,  10510,\n",
            "          56680,  10695,  55580,  12634,  12118,  12993,  10122,  11279,  82776,\n",
            "            119,  11480,  32127, 103614,  10234,  30213,    557,  83282,  20346,\n",
            "            117,  15888,  18971,  26428,  12798,  83603,    549,    117,  10375,\n",
            "            555,  41824,  10292,  24000,  11833,    117,  10332,  85584,  17969,\n",
            "          16610,  12709,  40697,    117,    543,    559,  41410,  10227,    119,\n",
            "            517,  13721,  31816,  10297,  10513, 104722,  67244,  10179,  12798,\n",
            "            556,  11851,  34521,    119,    533,  51229, 103614,    543,  54173,\n",
            "            119,  19732,  14122,    558,  48613,  10851,  14894,  10783,  10297,\n",
            "            543,  78070,  14397,  55367,  20563,    117, 109228,  15725,  11078,\n",
            "          61409,  10234,  62873,  23879,    117,  12709,  64815,  14133,    558,\n",
            "          10510,  15275,  42366,  13981,  85854,  18256,  10316,  24751,    117,\n",
            "            548,  10385,  12528,  11623,    546,  17254,  11833,  10332,  94693,\n",
            "          40887,  10970, 109300,  46073,  10823,    119,    533,  51229,  10234,\n",
            "          79703,  59828,    100,  10344,  79703,  71501,  10990,  96358,  33580,\n",
            "          10179,    117,  10791,    560,  89534,  17204,  11429,  10823,  60471,\n",
            "          43180,  10344,  12184,  10508,    543,    555,  58758,  12719,  55367,\n",
            "          20004,  10851,    119,  11712,  13317,  20785,  20292,  84043,  11292,\n",
            "          10234,    558,  48613,  10851,  67350,  10205,    117,  58742,  29749,\n",
            "          52045,  30176,  11075,    549,  79200,  97648, 102572,  21357,  10344,\n",
            "          11434,    119,    517,    117,  10332,  10752,  89068,  47695,  31770,\n",
            "          10332,  56575,  14397,  55367,  34652,    117,  61626,  10179,  12500,\n",
            "          55895,  59373,  10521,  10332,  73925,    119,    517,  13721,  31816,\n",
            "            555,  10823,  80318, 103452,    117,  10297,  10513, 104722,  67244,\n",
            "          10179,    560,  35415,  27429,  10316,    119,    532,  65674,  10385,\n",
            "            555,  58758,  11548,  55367,  20004,  10851,  30977,  50301,    542,\n",
            "          58956,  10234,  23089,  72090,  26367,  23716,    119,  21124,  59426,\n",
            "          18632,    117,  15530,  12709,  80465,  11240,  11050,  88615,  10241,\n",
            "          12614,  78465, 103270,  30305,  10625,  85854,  15065,    119,    514,\n",
            "          20904,  13713,  55895,  59373,  11899,    558,  20785,  11075,    543,\n",
            "          75556,    117,  43524,  10316,    117,  10949, 103510,  10517,  15283,\n",
            "            118,  11663,  34606,    119,  88303,  10375,  17257,    102]]), 'token_type_ids': tensor([[0, 0, 0, 0, 0, 0, 0, 0, 0, 0, 0, 0, 0, 0, 0, 0, 0, 0, 0, 0, 0, 0, 0, 0,\n",
            "         0, 0, 0, 0, 0, 0, 0, 0, 0, 0, 0, 0, 0, 0, 0, 0, 0, 0, 0, 0, 0, 0, 0, 0,\n",
            "         0, 0, 0, 0, 0, 0, 0, 0, 0, 0, 0, 0, 0, 0, 0, 0, 0, 0, 0, 0, 0, 0, 0, 0,\n",
            "         0, 0, 0, 0, 0, 0, 0, 0, 0, 0, 0, 0, 0, 0, 0, 0, 0, 0, 0, 0, 0, 0, 0, 0,\n",
            "         0, 0, 0, 0, 0, 0, 0, 0, 0, 0, 0, 0, 0, 0, 0, 0, 0, 0, 0, 0, 0, 0, 0, 0,\n",
            "         0, 0, 0, 0, 0, 0, 0, 0, 0, 0, 0, 0, 0, 0, 0, 0, 0, 0, 0, 0, 0, 0, 0, 0,\n",
            "         0, 0, 0, 0, 0, 0, 0, 0, 0, 0, 0, 0, 0, 0, 0, 0, 0, 0, 0, 0, 0, 0, 0, 0,\n",
            "         0, 0, 0, 0, 0, 0, 0, 0, 0, 0, 0, 0, 0, 0, 0, 0, 0, 0, 0, 0, 0, 0, 0, 0,\n",
            "         0, 0, 0, 0, 0, 0, 0, 0, 0, 0, 0, 0, 0, 0, 0, 0, 0, 0, 0, 0, 0, 0, 0, 0,\n",
            "         0, 0, 0, 0, 0, 0, 0, 0, 0, 0, 0, 0, 0, 0, 0, 0, 0, 0, 0, 0, 0, 0, 0, 0,\n",
            "         0, 0, 0, 0, 0, 0, 0, 0, 0, 0, 0, 0, 0, 0, 0, 0, 0, 0, 0, 0, 0, 0, 0, 0,\n",
            "         0, 0, 0, 0, 0, 0, 0, 0, 0, 0, 0, 0, 0, 0, 0, 0, 0, 0, 0, 0, 0, 0, 0, 0,\n",
            "         0, 0, 0, 0, 0, 0, 0, 0, 0, 0, 0, 0, 0, 0, 0, 0, 0, 0, 0, 0, 0, 0, 0, 0,\n",
            "         0, 0, 0, 0, 0, 0, 0, 0, 0, 0, 0, 0, 0, 0, 0, 0, 0, 0, 0, 0, 0, 0, 0, 0,\n",
            "         0, 0, 0, 0, 0, 0, 0, 0, 0, 0, 0, 0, 0, 0, 0, 0, 0, 0, 0, 0, 0, 0, 0, 0,\n",
            "         0, 0, 0, 0, 0, 0, 0, 0, 0, 0, 0, 0, 0, 0, 0, 0, 0, 0, 0, 0, 0, 0, 0, 0,\n",
            "         0, 0, 0, 0, 0, 0, 0, 0, 0, 0, 0, 0, 0, 0, 0, 0, 0, 0, 0, 0, 0, 0, 0, 0,\n",
            "         0, 0, 0, 0, 0, 0, 0, 0, 0, 0, 0, 0, 0, 0, 0, 0, 0, 0, 0, 0, 0, 0, 0, 0,\n",
            "         0, 0, 0, 0, 0, 0, 0, 0, 0, 0, 0, 0, 0, 0, 0, 0, 0, 0, 0, 0, 0, 0, 0, 0,\n",
            "         0, 0, 0, 0, 0, 0, 0, 0, 0, 0, 0, 0, 0, 0, 0, 0, 0, 0, 0, 0, 0, 0, 0, 0,\n",
            "         0, 0, 0, 0, 0, 0, 0, 0, 0, 0, 0, 0, 0, 0, 0, 0, 0, 0, 0, 0, 0, 0, 0, 0,\n",
            "         0, 0, 0, 0, 0, 0, 0, 0]]), 'attention_mask': tensor([[1, 1, 1, 1, 1, 1, 1, 1, 1, 1, 1, 1, 1, 1, 1, 1, 1, 1, 1, 1, 1, 1, 1, 1,\n",
            "         1, 1, 1, 1, 1, 1, 1, 1, 1, 1, 1, 1, 1, 1, 1, 1, 1, 1, 1, 1, 1, 1, 1, 1,\n",
            "         1, 1, 1, 1, 1, 1, 1, 1, 1, 1, 1, 1, 1, 1, 1, 1, 1, 1, 1, 1, 1, 1, 1, 1,\n",
            "         1, 1, 1, 1, 1, 1, 1, 1, 1, 1, 1, 1, 1, 1, 1, 1, 1, 1, 1, 1, 1, 1, 1, 1,\n",
            "         1, 1, 1, 1, 1, 1, 1, 1, 1, 1, 1, 1, 1, 1, 1, 1, 1, 1, 1, 1, 1, 1, 1, 1,\n",
            "         1, 1, 1, 1, 1, 1, 1, 1, 1, 1, 1, 1, 1, 1, 1, 1, 1, 1, 1, 1, 1, 1, 1, 1,\n",
            "         1, 1, 1, 1, 1, 1, 1, 1, 1, 1, 1, 1, 1, 1, 1, 1, 1, 1, 1, 1, 1, 1, 1, 1,\n",
            "         1, 1, 1, 1, 1, 1, 1, 1, 1, 1, 1, 1, 1, 1, 1, 1, 1, 1, 1, 1, 1, 1, 1, 1,\n",
            "         1, 1, 1, 1, 1, 1, 1, 1, 1, 1, 1, 1, 1, 1, 1, 1, 1, 1, 1, 1, 1, 1, 1, 1,\n",
            "         1, 1, 1, 1, 1, 1, 1, 1, 1, 1, 1, 1, 1, 1, 1, 1, 1, 1, 1, 1, 1, 1, 1, 1,\n",
            "         1, 1, 1, 1, 1, 1, 1, 1, 1, 1, 1, 1, 1, 1, 1, 1, 1, 1, 1, 1, 1, 1, 1, 1,\n",
            "         1, 1, 1, 1, 1, 1, 1, 1, 1, 1, 1, 1, 1, 1, 1, 1, 1, 1, 1, 1, 1, 1, 1, 1,\n",
            "         1, 1, 1, 1, 1, 1, 1, 1, 1, 1, 1, 1, 1, 1, 1, 1, 1, 1, 1, 1, 1, 1, 1, 1,\n",
            "         1, 1, 1, 1, 1, 1, 1, 1, 1, 1, 1, 1, 1, 1, 1, 1, 1, 1, 1, 1, 1, 1, 1, 1,\n",
            "         1, 1, 1, 1, 1, 1, 1, 1, 1, 1, 1, 1, 1, 1, 1, 1, 1, 1, 1, 1, 1, 1, 1, 1,\n",
            "         1, 1, 1, 1, 1, 1, 1, 1, 1, 1, 1, 1, 1, 1, 1, 1, 1, 1, 1, 1, 1, 1, 1, 1,\n",
            "         1, 1, 1, 1, 1, 1, 1, 1, 1, 1, 1, 1, 1, 1, 1, 1, 1, 1, 1, 1, 1, 1, 1, 1,\n",
            "         1, 1, 1, 1, 1, 1, 1, 1, 1, 1, 1, 1, 1, 1, 1, 1, 1, 1, 1, 1, 1, 1, 1, 1,\n",
            "         1, 1, 1, 1, 1, 1, 1, 1, 1, 1, 1, 1, 1, 1, 1, 1, 1, 1, 1, 1, 1, 1, 1, 1,\n",
            "         1, 1, 1, 1, 1, 1, 1, 1, 1, 1, 1, 1, 1, 1, 1, 1, 1, 1, 1, 1, 1, 1, 1, 1,\n",
            "         1, 1, 1, 1, 1, 1, 1, 1, 1, 1, 1, 1, 1, 1, 1, 1, 1, 1, 1, 1, 1, 1, 1, 1,\n",
            "         1, 1, 1, 1, 1, 1, 1, 1]])}\n"
          ]
        }
      ]
    },
    {
      "cell_type": "code",
      "source": [
        "for i in range(5):  # Check first 5 texts\n",
        "    print(f\"\\nOriginal Text {i}:\", texts[i])\n",
        "    print(f\"Token IDs {i}:\", input_ids[i])\n",
        "    print(f\"Attention Mask {i}:\", attention_masks[i])\n",
        "    print(f\"Number of 0s in Token IDs {i}:\", (input_ids[i] == 0).sum().item())\n",
        "    print(f\"Number of 0s in Attention Mask {i}:\", (attention_masks[i] == 0).sum().item())\n"
      ],
      "metadata": {
        "colab": {
          "base_uri": "https://localhost:8080/"
        },
        "id": "7muuc0pSKWgX",
        "outputId": "a956d3d6-3b7d-427f-dee7-ab0342dbfe11"
      },
      "execution_count": 87,
      "outputs": [
        {
          "output_type": "stream",
          "name": "stdout",
          "text": [
            "\n",
            "Original Text 0: Дом потерянных душ Романтические детективы Евгении Кретовой #7 Аделия – потомственная ясновидящая. Во всяком случае, так написано на вывеске ее салона. Поток клиенток, гадания, натальные карты и никакой романтики. Но накануне праздников что-то идет не так: клиентка не может определиться с невестой для сына, проблемы у сестры, странный тип не оставляет Аделию в покое. В итоге она волей-неволей оказывается вовлечена в тайны чужой семейной жизни. Те самые, что обычно прячутся скелетами в шкафу. Романтика, остро приправленная мистикой и загадкой старого преступления – новый детектив от Евгении Кретовой. Дом потерянных душ Пролог Она шагнула к кромке воды, безразлично наблюдая, как темная вода лизнула покрасневшие пальцы на ногах. Потянула за край рубашки, стянула через голову и, не оглядываясь, отбросила прочь, в траву. И только тогда посмотрела через плечо. Шагнула в воду. Ноги скользили по вязкой глине, приходилось цепляться за камыш, пробираться сквозь него осторожно, зябко ежась от ледяных брызг. Шаг за шагом – до шаткого помоста, что упирался подгнившими досками в озерную гладь. Зацепилась рукой за скользкие, облепленные тиной и водорослями доски. И, оттолкнувшись от топкой глины, сделала два гребка от берега. И только тогда оглянулась, посмотрела упрямо. Черная озерная гладь ловила блики заходящего солнца. Неяркого, уже пропитанного золотом надвигающейся осени. Еще один гребок спиной вперед, тихо, как учил когда-то отец. Чтобы не разбудить озерных ду?хов – так говорила мать. Взгляд неотступно следил за тем, кто следовал за ней. Улыбался по-детски криво и наивно. Смотрел жадно и надеялся на игру. Она зло плеснула водой в прозрачно-серые глаза и отплыла к берегу, с удовольствием наблюдая, как темная вода всколыхнулась от ее движения, как закрутилась водоворотом, увлекая неумелую жертву. Как безвольно вскинулись над поверхностью белые руки в мелких, будто манная крупа, веснушках, как узкое лицо накрыло гребнем черной волны, выдавив из легких прощальный крик. В эти последние летние дни озерные омуты подбираются к самому берегу. Глава 1. Салон «Луноликая» Москва, конец декабря, наши дни – Я все-таки не вижу у вас серьезных проблем, – деловитый голос из кабинета, запах восковых свечей и – тонкий, едва уловимый – ла?дана. Таисия подобралась, на цыпочках отошла к своему рабочему месту, взяла телефонную трубку. Сообщила шепотом: – Нет, госпожа АделияМило? сейчас занята и подойти к телефону не может. Тихий голос там, на другом конце провода, прошелестел: – У меня срочный, не терпящий отлагательств вопрос. Госпожа Аделия уверяла, что я смогу его решить, не приезжая к ней повторно. Таисия почесала кончик носа, отозвалась доверительно: – Боюсь, это как раз тот случай, когда заверения бесполезны.\n",
            "Token IDs 0: tensor([   101,  37106,  10297,  15469,  18971,  10970,  11576,  11148,  36314,\n",
            "         65446,  89353,  59990,  18221,    514,  10541,  14276,  11905,    519,\n",
            "         40035,  17780,    108,    128,    509,  44030,  11502,    100,  37706,\n",
            "         48310,  96947,  53156,  10385,  26325,    119,  12624,  72782,  13393,\n",
            "         28127,    117,  12123,  10122,  48680,  10122,  96195,  14149,  14430,\n",
            "         75431,  10868,  35551,  10179,    119,  11480,  20422,    551,  10783,\n",
            "         28252,  11899,    117,  16616,  72216,    117,  10122,  44422,  34045,\n",
            "         73985,    549,  19544,  67967,  10384,  25122,  31399,    119,  19732,\n",
            "         10122,  17343,  86622,  59784,  41637,  10433,  10791,    118,  11663,\n",
            "           549,  82635,  10375,  12123,    131,    551,  10783,  28252,  10521,\n",
            "         10375,  16087,    555,  35415,  87097, 106364,  10625,    558,  10375,\n",
            "         14149,  98526,  10520,  37060,    117,  44536,    560,  10277,  95212,\n",
            "           117,  32619,  11092,  20844,  10375,  85854,  36829,  29061,    509,\n",
            "         44030,  13564,    543,  10297,  30091,    119,    511,  45184,  13976,\n",
            "         10439,  20929,    118,  10375, 110687,  11742, 102128,  10439,  10541,\n",
            "         11851,  26724,    543,  10475,  69657,  59172,  52834,  10384,  67338,\n",
            "         11075,  17237,    119,  39968, 109550,    117,  10791,  32654,  25484,\n",
            "         65891,  19691,  10625,    558,  11557,  67033,  10508,    543,    565,\n",
            "         10521,  58899,    119,  36314,  24612,    117,  85854,  62735,  10913,\n",
            "        108877,  11548,  37140,  12189,  14397,    549,  10234,  11347,  10746,\n",
            "         14397, 101433,  38494,  77214,    100,  30994,  89353,  59990,  10541,\n",
            "         10332,    514,  10541,  14276,  11905,    519,  40035,  17780,    119,\n",
            "         37106,  10297,  15469,  18971,  10970,  11576,  11148,  35475,  22141,\n",
            "         25428,  79703,  10823, 103614,    551,    551,  21178,  11557,  37634,\n",
            "           117,  13012,  34556,  70667,  10122,  61394,  94811,  10385,    117,\n",
            "         10949,  19710,  11548,  30953,  33190,  11571, 103614,  10297,  10510,\n",
            "         56680,  10695,  55580,  12634,  12118,  12993,  10122,  11279,  82776,\n",
            "           119,  11480,  32127, 103614,  10234,  30213,    557,  83282,  20346,\n",
            "           117,  15888,  18971,  26428,  12798,  83603,    549,    117,  10375,\n",
            "           555,  41824,  10292,  24000,  11833,    117,  10332,  85584,  17969,\n",
            "         16610,  12709,  40697,    117,    543,    559,  41410,  10227,    119,\n",
            "           517,  13721,  31816,  10297,  10513, 104722,  67244,  10179,  12798,\n",
            "           556,  11851,  34521,    119,    533,  51229, 103614,    543,  54173,\n",
            "           119,  19732,  14122,    558,  48613,  10851,  14894,  10783,  10297,\n",
            "           543,  78070,  14397,  55367,  20563,    117, 109228,  15725,  11078,\n",
            "         61409,  10234,  62873,  23879,    117,  12709,  64815,  14133,    558,\n",
            "         10510,  15275,  42366,  13981,  85854,  18256,  10316,  24751,    117,\n",
            "           548,  10385,  12528,  11623,    546,  17254,  11833,  10332,  94693,\n",
            "         40887,  10970, 109300,  46073,  10823,    119,    533,  51229,  10234,\n",
            "         79703,  59828,    100,  10344,  79703,  71501,  10990,  96358,  33580,\n",
            "         10179,    117,  10791,    560,  89534,  17204,  11429,  10823,  60471,\n",
            "         43180,  10344,  12184,  10508,    543,    555,  58758,  12719,  55367,\n",
            "         20004,  10851,    119,  11712,  13317,  20785,  20292,  84043,  11292,\n",
            "         10234,    558,  48613,  10851,  67350,  10205,    117,  58742,  29749,\n",
            "         52045,  30176,  11075,    549,  79200,  97648, 102572,  21357,  10344,\n",
            "         11434,    119,    517,    117,  10332,  10752,  89068,  47695,  31770,\n",
            "         10332,  56575,  14397,  55367,  34652,    117,  61626,  10179,  12500,\n",
            "         55895,  59373,  10521,  10332,  73925,    119,    517,  13721,  31816,\n",
            "           555,  10823,  80318, 103452,    117,  10297,  10513, 104722,  67244,\n",
            "         10179,    560,  35415,  27429,  10316,    119,    532,  65674,  10385,\n",
            "           555,  58758,  11548,  55367,  20004,  10851,  30977,  50301,    542,\n",
            "         58956,  10234,  23089,  72090,  26367,  23716,    119,  21124,  59426,\n",
            "         18632,    117,  15530,  12709,  80465,  11240,  11050,  88615,  10241,\n",
            "         12614,  78465, 103270,  30305,  10625,  85854,  15065,    119,    514,\n",
            "         20904,  13713,  55895,  59373,  11899,    558,  20785,  11075,    543,\n",
            "         75556,    117,  43524,  10316,    117,  10949, 103510,  10517,  15283,\n",
            "           118,  11663,  34606,    119,  88303,  10375,  17257,    102])\n",
            "Attention Mask 0: tensor([1, 1, 1, 1, 1, 1, 1, 1, 1, 1, 1, 1, 1, 1, 1, 1, 1, 1, 1, 1, 1, 1, 1, 1,\n",
            "        1, 1, 1, 1, 1, 1, 1, 1, 1, 1, 1, 1, 1, 1, 1, 1, 1, 1, 1, 1, 1, 1, 1, 1,\n",
            "        1, 1, 1, 1, 1, 1, 1, 1, 1, 1, 1, 1, 1, 1, 1, 1, 1, 1, 1, 1, 1, 1, 1, 1,\n",
            "        1, 1, 1, 1, 1, 1, 1, 1, 1, 1, 1, 1, 1, 1, 1, 1, 1, 1, 1, 1, 1, 1, 1, 1,\n",
            "        1, 1, 1, 1, 1, 1, 1, 1, 1, 1, 1, 1, 1, 1, 1, 1, 1, 1, 1, 1, 1, 1, 1, 1,\n",
            "        1, 1, 1, 1, 1, 1, 1, 1, 1, 1, 1, 1, 1, 1, 1, 1, 1, 1, 1, 1, 1, 1, 1, 1,\n",
            "        1, 1, 1, 1, 1, 1, 1, 1, 1, 1, 1, 1, 1, 1, 1, 1, 1, 1, 1, 1, 1, 1, 1, 1,\n",
            "        1, 1, 1, 1, 1, 1, 1, 1, 1, 1, 1, 1, 1, 1, 1, 1, 1, 1, 1, 1, 1, 1, 1, 1,\n",
            "        1, 1, 1, 1, 1, 1, 1, 1, 1, 1, 1, 1, 1, 1, 1, 1, 1, 1, 1, 1, 1, 1, 1, 1,\n",
            "        1, 1, 1, 1, 1, 1, 1, 1, 1, 1, 1, 1, 1, 1, 1, 1, 1, 1, 1, 1, 1, 1, 1, 1,\n",
            "        1, 1, 1, 1, 1, 1, 1, 1, 1, 1, 1, 1, 1, 1, 1, 1, 1, 1, 1, 1, 1, 1, 1, 1,\n",
            "        1, 1, 1, 1, 1, 1, 1, 1, 1, 1, 1, 1, 1, 1, 1, 1, 1, 1, 1, 1, 1, 1, 1, 1,\n",
            "        1, 1, 1, 1, 1, 1, 1, 1, 1, 1, 1, 1, 1, 1, 1, 1, 1, 1, 1, 1, 1, 1, 1, 1,\n",
            "        1, 1, 1, 1, 1, 1, 1, 1, 1, 1, 1, 1, 1, 1, 1, 1, 1, 1, 1, 1, 1, 1, 1, 1,\n",
            "        1, 1, 1, 1, 1, 1, 1, 1, 1, 1, 1, 1, 1, 1, 1, 1, 1, 1, 1, 1, 1, 1, 1, 1,\n",
            "        1, 1, 1, 1, 1, 1, 1, 1, 1, 1, 1, 1, 1, 1, 1, 1, 1, 1, 1, 1, 1, 1, 1, 1,\n",
            "        1, 1, 1, 1, 1, 1, 1, 1, 1, 1, 1, 1, 1, 1, 1, 1, 1, 1, 1, 1, 1, 1, 1, 1,\n",
            "        1, 1, 1, 1, 1, 1, 1, 1, 1, 1, 1, 1, 1, 1, 1, 1, 1, 1, 1, 1, 1, 1, 1, 1,\n",
            "        1, 1, 1, 1, 1, 1, 1, 1, 1, 1, 1, 1, 1, 1, 1, 1, 1, 1, 1, 1, 1, 1, 1, 1,\n",
            "        1, 1, 1, 1, 1, 1, 1, 1, 1, 1, 1, 1, 1, 1, 1, 1, 1, 1, 1, 1, 1, 1, 1, 1,\n",
            "        1, 1, 1, 1, 1, 1, 1, 1, 1, 1, 1, 1, 1, 1, 1, 1, 1, 1, 1, 1, 1, 1, 1, 1,\n",
            "        1, 1, 1, 1, 1, 1, 1, 1])\n",
            "Number of 0s in Token IDs 0: 0\n",
            "Number of 0s in Attention Mask 0: 0\n",
            "\n",
            "Original Text 1: Стихи для мертвецов Дуглас Престон Звезды мирового детективаПендергаст #18 Специальный агент Алоизий Пендергаст вынужден согласиться с требованиями нового руководства нью-йоркского отделения ФБР: теперь он, знаменитый агент-одиночка, должен работать с напарником. Пендергаст и его новый помощник Колдмун направляются в Майами-Бич, где происходит череда немыслимых убийств. Почерк преступника ошеломляет: он вырезает сердца у своих жертв и оставляет их вместе с загадочными письмами на могилах женщин, совершивших самоубийство десять лет назад. Существует ли связь между всеми этими смертями? Что движет кровожадным психопатом? Пытаясь ответить на эти вопросы, Пендергаст и Колдмун даже не подозревают, какие невероятные обстоятельства вскоре откроются в ходе расследования, полностью меняя всю картину преступления и заставляя содрогнуться даже опытных следователей… Впервые на русском! Стихи для мертвецов Douglas Preston Lincoln Child Verses for the Dead © 2018 by Splendide Mendax, Inc. and Lincoln Child © Г. А. Крылов, перевод, 2020 © Издание на русском языке, оформление. ООО «Издательская Группа „Азбука-Аттикус“», 2020 Издательство АЗБУКА® * * * Дуглас Престон посвящает эту книгу Гусси и Джо Станислау 1 Изабелла Герреро, известная своим друзьям и одноклубникам по игре в бридж как Айрис, осторожно прокладывала себе путь через поросшее пальмами кладбище Бейсайд. Над ее головой раскинулось бескрайнее небо цвета бледной лазури. Часы показывали половину восьмого, температура воздуха поднялась до двадцати пяти градусов, и роса, которая все еще держалась на широколистной августиновой траве, насквозь пропитала кожаные сандалии Айрис. В пухлой руке женщина держала сумку от «Фенди», а в другой сжимала поводок, слабо натянутый ее пекинесом Твинклом. Айрис опасливо пробиралась между надгробиями и клумбами: всего три недели назад Грейс Манизетти, нагруженная продуктами, потеряла равновесие, возвращаясь из местного супермаркета «Пабликс», и сломала тазовую кость. Кладбище открылось полчаса назад, и, кроме Айрис, здесь почти никого не было. Ей это нравилось, ведь Майами-Бич с каждым годом становился все более многолюдным. Даже здесь, в Бал-Харбор, на северной оконечности острова, движение на дорогах было более оживленным, чем в перенаселенном Нью-Йорке времен ее детства, проведенного на бульваре Куинс. А когда несколько лет назад построили этот жуткий молл на Девяносто шестой улице, стало еще хуже. Помимо прочего, с юга начали проникать нежелательные элементы с их магазинами шаговой доступности и casa здесь, tienda[1 - Дом, лавочка (исп.).] там. Слава богу, Фрэнсису хватило ума купить кондоминиум на Гранд-Палмс-Атлантик, прямо на берегу Сёрфсайда и в безопасном от посягательств месте. «Фрэнсис…» Айрис уже видела впереди его могилу, надгробие, слегка выбеленное флоридским солнцем, на чистом и аккуратном участке – она позаботилась об этом. Твинкл, знающий, что место их назначения уже неподалеку, прекратил дергать поводок. Ей было за что благодарить Фрэнсиса.\n",
            "Token IDs 1: tensor([   101,    526,  70216,  10191,  10520,    553,  92190,  14149,  25840,\n",
            "           513,  45209,  38445,    524,  47274,  11579,  90472,  29345,  18248,\n",
            "         89353,  59990,  10852,  16027,  92154,  11977,  11347,  11567,    108,\n",
            "         10218,    526,  93973, 102487,  26657,  26891,  87422,    524,  92154,\n",
            "         11977,  11347,  11567,  67766,  10956,  42805,  99366,  10625,    558,\n",
            "           559,  14348,  49455,  23341,  10508,  23190, 108418,  12830,  10593,\n",
            "           118,    550,  87230,  11184,  50684,    529,  18683,  18005,    131,\n",
            "         53243,  11060,    117,    548,  78936,  15065,  35627, 102487,    118,\n",
            "         13713,  99628,    117,  33660,  45680,    558,  10122, 106064,  20298,\n",
            "           119,    524,  92154,  11977,  11347,  11567,    549,  10933,  30994,\n",
            "         99144,    519,  17010,  10746,  11805,  10267,  10122,  76880,  10541,\n",
            "         66973,    543,    521,  16481,  12040,    118, 102773,  11746,    117,\n",
            "         12252,  33779,  14816,  61146,  17213,  36257,  48552,  12861,    560,\n",
            "         13647,  10384,  19021,    119,  11480,  87869,  38494,  63649,  14071,\n",
            "           555,  42171,  10364,  29061,    131,  11060,  96195, 102233,  25471,\n",
            "         10277,  23479,  11456,    560,  20704, 103914,    549,  85854,  36829,\n",
            "         29061,  12064,  17050,    558,  10234,  11347,  17961,  79997,  87431,\n",
            "         10508,  10122,  40075,  16610,  10353,  24828,    117,  98903,  11977,\n",
            "         45813,  15419,  14847,  40124,  11550,  12232,  78999,  12773,  37178,\n",
            "           119,  97846,  33190,  68454,  13233,  93158,  37266,  10191,  16541,\n",
            "         92190,  21357,    136,  85904,    545,  13791,  15920,  10351,    551,\n",
            "         55048,  17254,  10746,  11692,    556,  13700,  42940,  70588,  10364,\n",
            "           136,    524,  86360,  39269,  83415,  15356,  10122,  26651,  75812,\n",
            "           117,    524,  92154,  11977,  11347,  11567,    549,    519,  17010,\n",
            "         10746,  11805,  10267,  21769,  10375,  11429,  44666, 110442,  31738,\n",
            "           117,  10949,  12686,  10375,  32418,  81802,  11194,  13248,  41054,\n",
            "         13081,  90521,  37264,  10332,  10510,  14315,  17601,    543,  26222,\n",
            "           557,  18291, 109558,    117,  29305,  57132,  10385,  39206,  98385,\n",
            "         10227,  38494,  77214,    549,  10234,  47151,  91040,  10956,  50676,\n",
            "         10823,  46769,  10625,  21769,  90281,  10970,  16246,  12019,  21859,\n",
            "           100,  58190,  10122,  64644,    106,    526,  70216,  10191,  10520,\n",
            "           553,  92190,  14149,  25840,  14860,  35119,  16944,  21640,  46744,\n",
            "         10171,  10142,  10105,  16349,    206,  10434,  10155,  46361,  72384,\n",
            "         10253,  13026,  10229,  10686,    117,  13604,    119,  10111,  16944,\n",
            "         21640,    206,    512,    119,    509,    119,    519,  13325,  18359,\n",
            "           117,  70659,    117,  23607,    206,  37904,  27473,  10122,  64644,\n",
            "         29773,    117,    555,  70619,  10241,  20539,    119,  61164,    208,\n",
            "         37904, 102600,  11980,  75719,   1725,  47841,  19590,  10521,    118,\n",
            "           509,  55330,  11191,  10513,    100,    220,    117,  23607,  50309,\n",
            "           509,  31315,  18683,  16859, 105700, 110892,    115,    115,    115,\n",
            "           513,  45209,  38445,    524,  47274,  11579,  10297,  10513,  84322,\n",
            "         41601,  39971,  49745,    512,  19954,  13700,    549,  72501,    526,\n",
            "        101740,  37936,  10227,    122,  19597,  50889,  13519,  10674,    512,\n",
            "         11977,  14348,  14315,    117,  55897,  10385,  28365,  16522,  45803,\n",
            "         15609,  10241,    549,  41543,  53869,  40124,  96250,  10297,  35813,\n",
            "           543, 109300,  22415,  12025,  10949,  99328,  72655,    117,  85854,\n",
            "         18256,  10316,  24751,  12709,  43067,  59422,  10179,  17072,  46906,\n",
            "         12798,  41436,  17969,  32381,  12634,  12118,  10993,  10508,  39365,\n",
            "           510, 104669,  16481,  10746,    119,  82704,  75431,  64371,  11292,\n",
            "           557,  18291,  31229,  81925,  11833,    542,  17488,  10510,  42174,\n",
            "         26346,  39483,  42128,    542,  11851,  85987,  26670,  19692,  11777,\n",
            "           119,    532,  47704,  45899,  87903,  23750,  87595,  10439,  11833,\n",
            "         64608,    117,  30405,  86478,  11429,  92204,  10344,  12500,  10746,\n",
            "         11456,  10960,  55506,  36650,  28680,    117,    549,  28171,  10179,\n",
            "           117,  16510,  13686,  72284,  90139,  61349,  11833,  10122,  32674,\n",
            "         76113,  48639,  69310,  98607,    559,  41410,  10205,    117,  32001,\n",
            "         10510,  15275,  42366,  12709,  80465,  15522,  59781,    102])\n",
            "Attention Mask 1: tensor([1, 1, 1, 1, 1, 1, 1, 1, 1, 1, 1, 1, 1, 1, 1, 1, 1, 1, 1, 1, 1, 1, 1, 1,\n",
            "        1, 1, 1, 1, 1, 1, 1, 1, 1, 1, 1, 1, 1, 1, 1, 1, 1, 1, 1, 1, 1, 1, 1, 1,\n",
            "        1, 1, 1, 1, 1, 1, 1, 1, 1, 1, 1, 1, 1, 1, 1, 1, 1, 1, 1, 1, 1, 1, 1, 1,\n",
            "        1, 1, 1, 1, 1, 1, 1, 1, 1, 1, 1, 1, 1, 1, 1, 1, 1, 1, 1, 1, 1, 1, 1, 1,\n",
            "        1, 1, 1, 1, 1, 1, 1, 1, 1, 1, 1, 1, 1, 1, 1, 1, 1, 1, 1, 1, 1, 1, 1, 1,\n",
            "        1, 1, 1, 1, 1, 1, 1, 1, 1, 1, 1, 1, 1, 1, 1, 1, 1, 1, 1, 1, 1, 1, 1, 1,\n",
            "        1, 1, 1, 1, 1, 1, 1, 1, 1, 1, 1, 1, 1, 1, 1, 1, 1, 1, 1, 1, 1, 1, 1, 1,\n",
            "        1, 1, 1, 1, 1, 1, 1, 1, 1, 1, 1, 1, 1, 1, 1, 1, 1, 1, 1, 1, 1, 1, 1, 1,\n",
            "        1, 1, 1, 1, 1, 1, 1, 1, 1, 1, 1, 1, 1, 1, 1, 1, 1, 1, 1, 1, 1, 1, 1, 1,\n",
            "        1, 1, 1, 1, 1, 1, 1, 1, 1, 1, 1, 1, 1, 1, 1, 1, 1, 1, 1, 1, 1, 1, 1, 1,\n",
            "        1, 1, 1, 1, 1, 1, 1, 1, 1, 1, 1, 1, 1, 1, 1, 1, 1, 1, 1, 1, 1, 1, 1, 1,\n",
            "        1, 1, 1, 1, 1, 1, 1, 1, 1, 1, 1, 1, 1, 1, 1, 1, 1, 1, 1, 1, 1, 1, 1, 1,\n",
            "        1, 1, 1, 1, 1, 1, 1, 1, 1, 1, 1, 1, 1, 1, 1, 1, 1, 1, 1, 1, 1, 1, 1, 1,\n",
            "        1, 1, 1, 1, 1, 1, 1, 1, 1, 1, 1, 1, 1, 1, 1, 1, 1, 1, 1, 1, 1, 1, 1, 1,\n",
            "        1, 1, 1, 1, 1, 1, 1, 1, 1, 1, 1, 1, 1, 1, 1, 1, 1, 1, 1, 1, 1, 1, 1, 1,\n",
            "        1, 1, 1, 1, 1, 1, 1, 1, 1, 1, 1, 1, 1, 1, 1, 1, 1, 1, 1, 1, 1, 1, 1, 1,\n",
            "        1, 1, 1, 1, 1, 1, 1, 1, 1, 1, 1, 1, 1, 1, 1, 1, 1, 1, 1, 1, 1, 1, 1, 1,\n",
            "        1, 1, 1, 1, 1, 1, 1, 1, 1, 1, 1, 1, 1, 1, 1, 1, 1, 1, 1, 1, 1, 1, 1, 1,\n",
            "        1, 1, 1, 1, 1, 1, 1, 1, 1, 1, 1, 1, 1, 1, 1, 1, 1, 1, 1, 1, 1, 1, 1, 1,\n",
            "        1, 1, 1, 1, 1, 1, 1, 1, 1, 1, 1, 1, 1, 1, 1, 1, 1, 1, 1, 1, 1, 1, 1, 1,\n",
            "        1, 1, 1, 1, 1, 1, 1, 1, 1, 1, 1, 1, 1, 1, 1, 1, 1, 1, 1, 1, 1, 1, 1, 1,\n",
            "        1, 1, 1, 1, 1, 1, 1, 1])\n",
            "Number of 0s in Token IDs 1: 0\n",
            "Number of 0s in Attention Mask 1: 0\n",
            "\n",
            "Original Text 2: Сказка о смерти Мартен С. Снейдер #3 В Берне обнаружен труп женщины с загадочным символом, который убийца вырезал у нее на груди. Однако это не единственная его жертва. Голландский профайлер Мартен С. Снейдер и комиссар БКА Сабина Немез открывают охоту на преступника, но кажется, что убийца всегда на шаг впереди. Между тем молодой специалист в области психологии Ханна приезжает в «Штайнфельз», тюрьму для преступников с психическими отклонениями. Она должна проводить сеансы групповой терапии. Но ее интересует один-единственный заключенный – Пит ван Лун. Когда-то Снейдер упрятал его за решетку. Так и опытные следователи, и начинающий психолог оказались втянуты в дьявольскую игру, в которой не будет победителя. Сказка о смерти Посвящается Хайдемари Спасибо за последние девятнадцать лет. «Наш злейший враг – это мы сами». Пословица Пролог Пятью годами ранее Мартен С. Снейдер стоял на утесе и не отрываясь смотрел на море. Брызги от волн, разбивавшихся о скалы, подлетали так высоко, что он ощущал легкую соленую морось на лице. Утреннее солнце еще пряталось за туманом, но ветер уже начал проделывать первые прорехи в серой массе. В небе над Снейдером пронзительно кричали чайки. Их что-то напугало. Он посмотрел вниз на маленькую пристань, где также располагалась железнодорожная станция острова-тюрьмы Остхеверзанд. По узкой горной дороге, которую он час назад одолел пешком, как раз поднималась машина. Автозак. В нем везли трех заключенных, но Снейдера интересовал только один из них. Он щелчком отбросил окурок в скалы. Несколько секунд пахло марихуаной, а потом в воздухе остался лишь привычный запах морских водорослей, птичьего помета и мидий, облепивших скалы и омываемых пенящимися морскими волнами. Снейдер отошел от скал и спрятался в тени высокого здания, стоящего позади него. В следующий момент подъехал автозак и, хрустя гравием под колесами, остановился у ворот. Из здания исправительного учреждения вышли два сотрудника в униформе. Без огнестрельного оружия, но с тазерами, газовыми баллончиками и дубинками. По их лицам Снейдер понял, что – если потребуется – они без колебаний жестоко изобьют заключенных. Здесь не было туристов, снимающих видео на мобильные телефоны. Дверь автозака открылась – сначала из машины вылезли двое мужчин в униформе, следом за ними трое заключенных в серых комбинезонах. На ногах у них были кандалы, двое держали перед собой закованные в наручники руки. Третий также был в наручниках – правда, руки ему сцепили за спиной. Вот из-за этого мужчины Снейдер и приехал сюда. Он должен был убедиться, что того действительно упрячут – и навсегда – в это специальное заведение: тюрьму строгого режима для преступников с психическими отклонениями. Снейдер сделал шаг вперед, обратился к сотрудникам и указал на Пита ван Луна: – Вам стоит посильнее затянуть ему наручники.\n",
            "Token IDs 2: tensor([   101,    526,  41710,  10521,    555,  21809,    521,  46466,  10928,\n",
            "           526,    119,    526,  17000,  22605,    108,    124,    511,    510,\n",
            "         80369,  10205,  13248,  37235,  10227,  23855,    559,  14360,  11078,\n",
            "         42403,    558,  10234,  11347,  17961,  27819,  51235,  10364,    117,\n",
            "         12968,    560,  13647,  75096,  96195, 102233,  12743,    560,  10375,\n",
            "         10205,  10122,  55895,  29779,    119,  17549,  12999,  10375,  23727,\n",
            "         48310,  10933, 103914,  10179,    119,    512,  17010,  39666,  11386,\n",
            "         56619,  93782,  11977,    521,  46466,  10928,    526,    119,    526,\n",
            "         17000,  22605,    549,  59781,  10508,  48621,  10519,    510, 105700,\n",
            "         55920,  83281,  21124,  14689,  11571,  10332,  10510,  84113,  13714,\n",
            "           555,  42940,  12803,  10122,  38494,  63649,  14071,    117,  11279,\n",
            "         95434,  22692,    117,  10791,    560,  13647,  75096,  41073,  10122,\n",
            "         79703,  10823,    543,  75556,  10191,    119,  61586,  19710,  96917,\n",
            "           558,  97516,    543,  11431,    556,  13700,  42940,  26749,  77820,\n",
            "         10409,  10913,  32934,  47546,    543,    208,    533,  25987,  10267,\n",
            "         42695,  12118,  11571,    220,    117,    559,  10593,  28301,  11805,\n",
            "         10520,  38494,  63649,  17167,    558,    556,  13700,  22710,  72579,\n",
            "         10332,  67455,  27232,  10508,    119,  25428,  53468,  88184,  10277,\n",
            "         94905,  10292,  54874,  17780,  13613,  11079,  70191,    119,  19732,\n",
            "         75431,  59075,  43699,  13713,    118,  70021,  10234, 101032,  11092,\n",
            "           100,    524,  15811,  39621,    520,  16657,    119,  30053,    118,\n",
            "         11663,    526,  17000,  22605,    560,  35415,  27259,  10517,  10933,\n",
            "         10234,    557, 108654,  48038,    119,  20275,    549,  90281,  11194,\n",
            "         16246,  12019,  24306,    117,    549,  27353,  60893,    556,  13700,\n",
            "         42940,  22141,  96061,    543,  32127,  75029,  10292,    543,    545,\n",
            "         15609, 110687,  10851,  15997,  56762,    117,    543,  16209,  10375,\n",
            "         22366,  98652,  24066,    119,    526,  41710,  10521,    555,  21809,\n",
            "         11480,  10513,  84322,  51901,    530,  16481, 109566,  30090,    526,\n",
            "        107528,  29709,  10234,  52419, 109910,  13081,  89495,  12773,    119,\n",
            "           208,  10778,  11148,    548,  20929,  16483,    543,  80424,    100,\n",
            "         12999,  35818,  77489,    220,    119,  11480,  55984,  87667,  35475,\n",
            "         22141,    524,  20177,  10593, 103363,  10191,  30673,    521,  46466,\n",
            "         10928,    526,    119,    526,  17000,  22605, 108804,  29065,  10122,\n",
            "           560,  10696,  13110,    549,  10375,  10332,  84113,  39269,  16541,\n",
            "         11016,  67244,  10122,  27165,    119,    510,  13325,  11571,  14122,\n",
            "         10332,  10439,  10517,  10267,    117,  17257,  98208,  81991,    555,\n",
            "           558,  48225,  10292,    117,  11429,  67033,  10783,  12123,  96195,\n",
            "         45135,  10316,    117,  10791,  11060,    555,  50642,  58843,  94693,\n",
            "         10823,  42688,  26367,  43909,  10593,    553,  97648,  11833,  10122,\n",
            "         75599,    119,    528,  46672,  10928,  26346,  26367,  67345,  72284,\n",
            "         25484,  27259,  20243,  10234,  37298,  14405,  10364,    117,  11279,\n",
            "           543,  71493,  15530,  23137,  12709,  44030,  72060,  37067,  12709,\n",
            "         14348,  22710,    543,  10277,  62685,  97744,  74044,    119,    511,\n",
            "         10375,  18106,  12614,    526,  17000,  22605,  10364,  12709,  10267,\n",
            "         98907,  19619,    551,  11777,  48859,    564,  99189,  10191,    119,\n",
            "         40655,  10791,    118,  11663,  10122,  35280,  75819,  10316,    119,\n",
            "         14699,  10297,  10513, 104722,  67244, 107093,  10122,  50818,  19557,\n",
            "         42688,  10913,  84946,    117,  12252,  11448,    557,  18291,  95208,\n",
            "         20292, 103699,  37544,  25996,    118,    559,  10593,  28301,  15657,\n",
            "           523,  11567,  57760,  32418,  27659,  10746,    119,  11480,  41733,\n",
            "         14397, 104812,  11075,  69948,    117,  30956,  11060,  12562,  37178,\n",
            "         10430,  64724,  10517,    556,  31751,  13393,    117,  10949,  17257,\n",
            "         11429,  93903,  20013,  51169,    119,    509,  94454,  43650,  10510,\n",
            "           119,    511,  17213,    543,  32934,  10783,  83370,  10234, 101032,\n",
            "         10970,    117,  11279,    526,  17000,  22605,  10179,  59075,  35973,\n",
            "         13721,  13713,  10387,  13614,    119,  14699,  16892,  10517,  52150,\n",
            "         10332,  85584,  17969,  13460,  40936,  20060,  11899,    102])\n",
            "Attention Mask 2: tensor([1, 1, 1, 1, 1, 1, 1, 1, 1, 1, 1, 1, 1, 1, 1, 1, 1, 1, 1, 1, 1, 1, 1, 1,\n",
            "        1, 1, 1, 1, 1, 1, 1, 1, 1, 1, 1, 1, 1, 1, 1, 1, 1, 1, 1, 1, 1, 1, 1, 1,\n",
            "        1, 1, 1, 1, 1, 1, 1, 1, 1, 1, 1, 1, 1, 1, 1, 1, 1, 1, 1, 1, 1, 1, 1, 1,\n",
            "        1, 1, 1, 1, 1, 1, 1, 1, 1, 1, 1, 1, 1, 1, 1, 1, 1, 1, 1, 1, 1, 1, 1, 1,\n",
            "        1, 1, 1, 1, 1, 1, 1, 1, 1, 1, 1, 1, 1, 1, 1, 1, 1, 1, 1, 1, 1, 1, 1, 1,\n",
            "        1, 1, 1, 1, 1, 1, 1, 1, 1, 1, 1, 1, 1, 1, 1, 1, 1, 1, 1, 1, 1, 1, 1, 1,\n",
            "        1, 1, 1, 1, 1, 1, 1, 1, 1, 1, 1, 1, 1, 1, 1, 1, 1, 1, 1, 1, 1, 1, 1, 1,\n",
            "        1, 1, 1, 1, 1, 1, 1, 1, 1, 1, 1, 1, 1, 1, 1, 1, 1, 1, 1, 1, 1, 1, 1, 1,\n",
            "        1, 1, 1, 1, 1, 1, 1, 1, 1, 1, 1, 1, 1, 1, 1, 1, 1, 1, 1, 1, 1, 1, 1, 1,\n",
            "        1, 1, 1, 1, 1, 1, 1, 1, 1, 1, 1, 1, 1, 1, 1, 1, 1, 1, 1, 1, 1, 1, 1, 1,\n",
            "        1, 1, 1, 1, 1, 1, 1, 1, 1, 1, 1, 1, 1, 1, 1, 1, 1, 1, 1, 1, 1, 1, 1, 1,\n",
            "        1, 1, 1, 1, 1, 1, 1, 1, 1, 1, 1, 1, 1, 1, 1, 1, 1, 1, 1, 1, 1, 1, 1, 1,\n",
            "        1, 1, 1, 1, 1, 1, 1, 1, 1, 1, 1, 1, 1, 1, 1, 1, 1, 1, 1, 1, 1, 1, 1, 1,\n",
            "        1, 1, 1, 1, 1, 1, 1, 1, 1, 1, 1, 1, 1, 1, 1, 1, 1, 1, 1, 1, 1, 1, 1, 1,\n",
            "        1, 1, 1, 1, 1, 1, 1, 1, 1, 1, 1, 1, 1, 1, 1, 1, 1, 1, 1, 1, 1, 1, 1, 1,\n",
            "        1, 1, 1, 1, 1, 1, 1, 1, 1, 1, 1, 1, 1, 1, 1, 1, 1, 1, 1, 1, 1, 1, 1, 1,\n",
            "        1, 1, 1, 1, 1, 1, 1, 1, 1, 1, 1, 1, 1, 1, 1, 1, 1, 1, 1, 1, 1, 1, 1, 1,\n",
            "        1, 1, 1, 1, 1, 1, 1, 1, 1, 1, 1, 1, 1, 1, 1, 1, 1, 1, 1, 1, 1, 1, 1, 1,\n",
            "        1, 1, 1, 1, 1, 1, 1, 1, 1, 1, 1, 1, 1, 1, 1, 1, 1, 1, 1, 1, 1, 1, 1, 1,\n",
            "        1, 1, 1, 1, 1, 1, 1, 1, 1, 1, 1, 1, 1, 1, 1, 1, 1, 1, 1, 1, 1, 1, 1, 1,\n",
            "        1, 1, 1, 1, 1, 1, 1, 1, 1, 1, 1, 1, 1, 1, 1, 1, 1, 1, 1, 1, 1, 1, 1, 1,\n",
            "        1, 1, 1, 1, 1, 1, 1, 1])\n",
            "Number of 0s in Token IDs 2: 0\n",
            "Number of 0s in Attention Mask 2: 0\n",
            "\n",
            "Original Text 3: Темная материя Город в Нигде Джейсон Дессен, выдающийся физик, некогда отказался от блестящей научной карьеры и стал обычным преподавателем в колледже. Теперь все его внимание отдано семье – любимым жене и сыну. Они для Джейсона важнее всего. И вдруг – это нелепое похищение… Неизвестный в маске напал на Дессена на улице, под дулом револьвера усадил его в машину, отвез к заброшенному зданию и ввел ему в вену непонятный препарат. Джейсон потерял сознание. А очнувшись, обнаружил себя окруженным массой людей; все они обращались к нему как к старому другу и наперебой поздравляли его с возвращением – и с тем, что его открытие наконец-то сработало. Вот только Дессен не знал никого из этих людей. И уж тем более не ведал, что за открытие совершил… Темная материя © Перевод на русский язык, С.Н. Самуйлов, 2016 © Издание на русском языке, оформление ООО «Издательство Э», 2017 * * * Для тех, кто хочет знать, какой могла быть жизнь в конце непройденной дороги Что быть могло и что случилось, Все сводится к извечному концу. В памяти эхо шагов По коридору, в который мы не свернули, К двери, которую мы не открыли. Т.С. Элиот «Бернт Нортон» Глава 1 Люблю четверговые вечера. Есть в них что-то вневременное. Такая у нас традиция – семейный вечер, только мы втроем. Мой сын Чарли сидит за столом, рисует что-то в альбоме. Ему почти пятнадцать. Вырос за лето на два дюйма и уже почти догнал меня. Я отворачиваюсь от лука, который режу на разделочной доске. – Можно посмотреть? Сын поднимает альбом, показывает горный хребет – нечто инопланетное. – Мне нравится, – говорю я. – Просто так или… – Домашнее задание. Завтра сдавать. – Что ж, трудись, мистер В-Последнюю-Минуту. Довольный и чуточку пьяный, я стою у себя на кухне и даже не подозреваю, что этот сегодняшний вечер – конец всего. Всего, что я знаю, всего, что люблю. Никто не скажет, что скоро все изменится, что тебя лишат всего-всего. Никакой системы предупреждения о приближающейся опасности нет, как нет ни малейшего указания на то, что ты уже стоишь над пропастью. Может быть, именно поэтому трагедия так трагична. Дело не в том, что случается, а в том, как это случается: удар настигает внезапно, когда ты совсем его не ждешь. Ни увернуться, ни собраться уже не успеваешь. Светодиодные светильники отражаются на поверхности вина в бокале, и в глазах начинает пощипывать от лука. На старенькой вертушке в кабинете крутится пластинка Телониуса Монка. Аналоговые записи можно слушать бесконечно – в них есть некая сочность звучания, особенно эти щелчки между треками.\n",
            "Token IDs 3: tensor([   101,  40272,  11548,  63588,  10385,  49830,    543,    522,  10191,\n",
            "         10823,  12265,  43747, 104669,  11579,  52935,  74044,  10267,    117,\n",
            "         96195,  10987,  71084,  93839,    117,  10375,  29476,  10987,  78213,\n",
            "         10332,    542,  62903,  32127,  30305,  60133,  70580,    549,  13462,\n",
            "         13248,  10292,  27819,  38494,  53204,  83181,  25620,    543,  90363,\n",
            "         87469,  10205,    119,  39968,  29633,  10851,  13686,  10933,  38697,\n",
            "         10332,  84634,  25352,    100,    552,  10593,  13647,  80128,  86714,\n",
            "           549,  22025,  10227,    119,  27708,  10520,  43747, 104669,  14614,\n",
            "         12450,  68501,  18275,    119,    517,    543,  83038,  10823,    100,\n",
            "         12999,  10375,  53370,  17117,  10297,  22710,  26692,    100,  21124,\n",
            "         39457,  14149,  11567,  11092,    543,  97744,  14430,  10122,  55354,\n",
            "         10122,  52935,  74044,  10409,  10122,  44977,    117,  11429,  11576,\n",
            "         22089,    557,  42500,  12118,  77977,    560,  69247,  10517,  10933,\n",
            "           543,  51290,  10227,    117,  10332,  14149,  11571,    551,  10234,\n",
            "         85584,  43155,  85880,  10227,    548,  15196,  13564,    549,  60345,\n",
            "         13519,  16929,    543,    543,  43909,  10375,  91925,  13081,  11092,\n",
            "         38494,  41895,    119,  43747, 104669,  11579,  10297,  15469,  29065,\n",
            "         10956, 101495,    119,    509,    555,  28056,  65495,    117,  13248,\n",
            "         37235,  10227,  29189,  17900,  40936,  14360,  23855,  11692,  97744,\n",
            "         98617,  10384,  17358,    132,  13686,  14274,  13248,  11079,  58843,\n",
            "         19935,    551,  61208,  10949,    551,  15888,  95605,  11805,  70723,\n",
            "           549,  10122,  29633,  59373,  11292,  10297,  62594,  41410,  48499,\n",
            "         10933,    558,  10439, 105283,  50087,  10241,    100,    549,    558,\n",
            "         19710,    117,  10791,  10933,  60427,  12686, 102310,    118,  11663,\n",
            "           558,  79050,  10316,    119,  12624,  10351,  13721,  52935,  74044,\n",
            "         10267,  10375,    548,  25829,  19544,  18632,  10387,  23459,  17358,\n",
            "           119,    517,    560,  12025,  19710,  13106,  10375,    543,  63253,\n",
            "         10517,    117,  10791,  10234,  60427,  12686,  75083,    100,  40272,\n",
            "         11548,  63588,  10385,    206,  54247,  42500,  10746,  10122,  37619,\n",
            "         29757,    117,    526,    119,    522,    119,  51640, 110247,  18359,\n",
            "           117,  10255,    206,  37904,  27473,  10122,  64644,  29773,    117,\n",
            "           555,  70619,  10241,  20539,  61164,    208,  50309,    538,    220,\n",
            "           117,  10302,    115,    115,    115,  15668,  32323,    117,  35261,\n",
            "           562, 110732,    548,  71422,    117,  78351,  51734,  17631,  27264,\n",
            "           543,  18895,  10375, 104082,  74346,  46336,  33949,  85904,  17631,\n",
            "         78664,    549,  10791,  52399,  63755,  16353,    117,  28572,  37629,\n",
            "         50975,  22692,    551,  10387,  14149,  49146,  67796,    119,    511,\n",
            "         50447,    570,  42940,  79703,  47204,  11480,  80062,  22415,  32579,\n",
            "           117,    543,  12968,  35818,  10375,  25544,  55399,  30102,    117,\n",
            "           519,  14919,  11777,    117,  30956,  35818,  10375,  10332,  89038,\n",
            "         10191,    119,    527,    119,    526,    119,  63891,  37754,    208,\n",
            "           510,  80369,  10351,  19732,  54555,  10267,    220,  70509,    122,\n",
            "           520,  10593,  61394,  10593,  14816,  35795,  54841,  30165,  45721,\n",
            "         11079,    119,    514,  12737,    543,  13614,  10791,    118,  11663,\n",
            "        103072,  87784,  10205,    119,  35150,  10385,    560,  32001,    559,\n",
            "         76561,  12942,    100,  67338,  11092,  45721,  10519,    117,  13721,\n",
            "         35818,    543,  62735,  12579,    119,    521,  11292,  22025,    532,\n",
            "        103480,  12662,  96655,  10234, 108804,  22089,    117,    557,  19120,\n",
            "         43699,  10791,    118,  11663,    543,  20488,  10205,    119,    514,\n",
            "         11805,  21797,    556,  13081,  89495,    119,  33703,  44181,  10234,\n",
            "        108276,  10122,  12500,    545,  10593,  88215,    549,  15530,  21797,\n",
            "         10344,  81080,  57132,    119,    540,  10332,  59788,  40181, 103270,\n",
            "         11833,  10332,    552,  37087,    117,  12968,  44567,  10227,  10122,\n",
            "         17257,  44030,  76035,  10344,  14430,    119,    100,    521,  10316,\n",
            "         24751,  10297,  10513, 104722, 101312,    136,  56794,  11429,  97582,\n",
            "         11613,  20488,    117,  45899,  46702, 104812,  11092,    562,  14348,\n",
            "         67218,    100,  10375,  11746,  10752,  27796,  58056,    102])\n",
            "Attention Mask 3: tensor([1, 1, 1, 1, 1, 1, 1, 1, 1, 1, 1, 1, 1, 1, 1, 1, 1, 1, 1, 1, 1, 1, 1, 1,\n",
            "        1, 1, 1, 1, 1, 1, 1, 1, 1, 1, 1, 1, 1, 1, 1, 1, 1, 1, 1, 1, 1, 1, 1, 1,\n",
            "        1, 1, 1, 1, 1, 1, 1, 1, 1, 1, 1, 1, 1, 1, 1, 1, 1, 1, 1, 1, 1, 1, 1, 1,\n",
            "        1, 1, 1, 1, 1, 1, 1, 1, 1, 1, 1, 1, 1, 1, 1, 1, 1, 1, 1, 1, 1, 1, 1, 1,\n",
            "        1, 1, 1, 1, 1, 1, 1, 1, 1, 1, 1, 1, 1, 1, 1, 1, 1, 1, 1, 1, 1, 1, 1, 1,\n",
            "        1, 1, 1, 1, 1, 1, 1, 1, 1, 1, 1, 1, 1, 1, 1, 1, 1, 1, 1, 1, 1, 1, 1, 1,\n",
            "        1, 1, 1, 1, 1, 1, 1, 1, 1, 1, 1, 1, 1, 1, 1, 1, 1, 1, 1, 1, 1, 1, 1, 1,\n",
            "        1, 1, 1, 1, 1, 1, 1, 1, 1, 1, 1, 1, 1, 1, 1, 1, 1, 1, 1, 1, 1, 1, 1, 1,\n",
            "        1, 1, 1, 1, 1, 1, 1, 1, 1, 1, 1, 1, 1, 1, 1, 1, 1, 1, 1, 1, 1, 1, 1, 1,\n",
            "        1, 1, 1, 1, 1, 1, 1, 1, 1, 1, 1, 1, 1, 1, 1, 1, 1, 1, 1, 1, 1, 1, 1, 1,\n",
            "        1, 1, 1, 1, 1, 1, 1, 1, 1, 1, 1, 1, 1, 1, 1, 1, 1, 1, 1, 1, 1, 1, 1, 1,\n",
            "        1, 1, 1, 1, 1, 1, 1, 1, 1, 1, 1, 1, 1, 1, 1, 1, 1, 1, 1, 1, 1, 1, 1, 1,\n",
            "        1, 1, 1, 1, 1, 1, 1, 1, 1, 1, 1, 1, 1, 1, 1, 1, 1, 1, 1, 1, 1, 1, 1, 1,\n",
            "        1, 1, 1, 1, 1, 1, 1, 1, 1, 1, 1, 1, 1, 1, 1, 1, 1, 1, 1, 1, 1, 1, 1, 1,\n",
            "        1, 1, 1, 1, 1, 1, 1, 1, 1, 1, 1, 1, 1, 1, 1, 1, 1, 1, 1, 1, 1, 1, 1, 1,\n",
            "        1, 1, 1, 1, 1, 1, 1, 1, 1, 1, 1, 1, 1, 1, 1, 1, 1, 1, 1, 1, 1, 1, 1, 1,\n",
            "        1, 1, 1, 1, 1, 1, 1, 1, 1, 1, 1, 1, 1, 1, 1, 1, 1, 1, 1, 1, 1, 1, 1, 1,\n",
            "        1, 1, 1, 1, 1, 1, 1, 1, 1, 1, 1, 1, 1, 1, 1, 1, 1, 1, 1, 1, 1, 1, 1, 1,\n",
            "        1, 1, 1, 1, 1, 1, 1, 1, 1, 1, 1, 1, 1, 1, 1, 1, 1, 1, 1, 1, 1, 1, 1, 1,\n",
            "        1, 1, 1, 1, 1, 1, 1, 1, 1, 1, 1, 1, 1, 1, 1, 1, 1, 1, 1, 1, 1, 1, 1, 1,\n",
            "        1, 1, 1, 1, 1, 1, 1, 1, 1, 1, 1, 1, 1, 1, 1, 1, 1, 1, 1, 1, 1, 1, 1, 1,\n",
            "        1, 1, 1, 1, 1, 1, 1, 1])\n",
            "Number of 0s in Token IDs 3: 0\n",
            "Number of 0s in Attention Mask 3: 0\n",
            "\n",
            "Original Text 4: Позже Темная башня (АСТ) Джейми Конклин, живущий с матерью в Нью-Йорке, хочет быть всего лишь обычным подростком… но у него есть весьма необычный дар. Дар, который его мама настоятельно просит скрывать от других. Джейми умеет разговаривать с теми, кого уже нет на этом свете, а значит, ему доступны секреты, ушедшие с покойным в могилу. Однако обладание этим даром может стоить Джейми слишком дорого. В чем он скоро и убеждается, когда мамина подруга, детектив Лиз Даттон, просит его помочь разгадать последнее послание серийного подрывника. А на кону – десятки, сотни невинных жизней… Позже Крису Лоттсу Завтрашних дней не так много. Майкл Лэндон Серия «Темная башня» Stephen King LATER Перевод с английского Т. Покидаевой Фото автора на обложке: Shane Leonard Печатается с разрешения автора и литературных агентств The Lotts Agency и Andrew Nurnberg. © Stephen King, 2021 © Перевод. Т. Покидаева, 2021 © Издание на русском языке AST Publishers, 2021 Я не люблю начинать с извинений – возможно, даже есть правило, запрещающее подобный прием, вроде правила, что предложение не должно оканчиваться предлогом, – но, перечитав первые тридцать страниц, я подумал, что извиниться все-таки надо. Извиниться за частое употребление слова из пяти букв, начинающегося на «п». Нет, это не то, о чем вы подумали. Хотя то слово, как и много других нехороших слов, перенятых у мамы, я тоже знал с юных лет (в чем вам еще предстоит убедиться). Я имею в виду слово «позже» в таких сочетаниях, как «позже я выяснил» или «только позже я понял». Да, оно повторяется слишком часто, но я не знаю, как построить рассказ по-другому, потому что моя история начинается в те времена, когда я еще верил в Санта-Клауса и зубную фею (хотя даже в шесть лет у меня уже были сомнения). Сейчас мне двадцать два, и «позже» вроде как наступило, да? Наверное, когда мне исполнится сорок – при условии, что я доживу до такого возраста, – я вспомню все, что, как мне представлялось, понимал в двадцать два года, и приду к выводу, что очень многого не понимал. Всегда есть какое-то «позже», теперь я это знаю. По крайней мере, пока мы не умрем. А потом, видимо, наступает все, что было раньше. Меня зовут Джейми Конклин, и когда-то давным-давно я нарисовал индейку ко Дню благодарения. Мне казалось, что она офигенная. Позже – причем ненамного позже – выяснилось, что она откровенно фиговая. Иногда правда бывает паршивой. Мне кажется, это будет история в жанре ужасов. Смотрите сами. 1 Я возвращался домой из школы вместе с мамой.\n",
            "Token IDs 4: tensor([   101,  48679,  40272,  11548,  40139,  12751,    113, 102102,    114,\n",
            "         43747,  11742,  10508,    519,  11579,  56200,  10267,    117,  78736,\n",
            "         64098,    558,  97744,  15469,  27025,    543,  19689,    118,  94364,\n",
            "           117,    562, 110732,  17631,  18275,  20489,  13248,  10292,  27819,\n",
            "         11429,  44181,  71501,  10241,    100,  11279,    560,  13981,  17622,\n",
            "         60391,  10375,  94434,  25711,  11820,    119,  29037,    117,  12968,\n",
            "         10933,  97744,  10993,  32001,  10752,  13081,  49161,  12709, 109287,\n",
            "           558,  10510,  84113,  11258,  10332,  15597,    119,  43747,  11742,\n",
            "         10508,  39510,  38049,  10351,  17257,  47204,  30090,  27013,    558,\n",
            "         79746,    117,  86701,  15530,  31428,  10122,  14551,  40363,  10205,\n",
            "           117,    541,  59737,  10351,    117,  16929,  76626,  11307,  10277,\n",
            "         91807,  10292,    117,    560,  13391,  10746,  23352,    558,  10297,\n",
            "         14397,  11692,    543,  40075,  13460,  10227,    119,  17549,  58742,\n",
            "         36069,  13541,  37266,  11820,  10364,  16087,  75363,  10851,  43747,\n",
            "         11742,  10508,  68923,  91376,  10316,    119,    511,  18658,  11060,\n",
            "         46068,    549,    560,  18106, 101584,  10625,    117,  15283,  97744,\n",
            "         61747,  11429,  75624,  10179,    117,  89353,  59990,  10541,  41655,\n",
            "         11571,  30417,  98869,  10267,    117,  12709, 109287,  10933,  96358,\n",
            "         10316,  40697,  17257,  11347,  57548, 107366,  10297,  91008,  12686,\n",
            "         10277,  38864,  11050,  11429,  77851,  14071,    119,    509,  10122,\n",
            "         33023,  10227,    100,  11323,  83125,  10648,    117,  10956,  38842,\n",
            "         10375,  49048,  10970,    547,  39457,  17000,    100,  48679,  93275,\n",
            "         10227,  88909,  10351, 107195,  10227,  11712,  94454,  11079,  93825,\n",
            "         29835,  10375,  12123,  16318,    119,  55609,    520,  16893,  42999,\n",
            "         70802,    208,  40272,  11548,  40139,  12751,    220,  13866,  11515,\n",
            "         29079,  99552,  54247,  42500,  10746,    558,  94803,    527,    119,\n",
            "         11480,  10648,  10987,  63619,    529,  19517,  56740,  10122,  58742,\n",
            "         10316,  12025,  11557,    131,  40429,  20318,    524, 106173,  10367,\n",
            "         14317,    558,  17257,  14348,  27711,  56740,    549,  99197,  14961,\n",
            "         44066,  10970, 102487,  19021,  10117,  34837,  10806,  21887,    549,\n",
            "         13999,  29851,  33199,    119,    206,  13866,  11515,    117,  67267,\n",
            "           206,  54247,  42500,  10746,    119,    527,    119,  11480,  10648,\n",
            "         10987,  17759,    117,  67267,    206,  37904,  27473,  10122,  64644,\n",
            "         29773,  17421,  11090,  22764,    117,  67267,    540,  10375,    552,\n",
            "         10593,  61394,  10593,  27353,  18235,    558,  10387,  69913,  11532,\n",
            "           100,  44504,    117,  21769,  17622,  29349,    117,  10234,  35415,\n",
            "         10205,  15545,  54912,  11429,  33276,  11092,  10913,  12579,    117,\n",
            "           543,  70242,  10205,  53805,    117,  10791,  87803,  10375,  80323,\n",
            "         40936,  11240,  40181,  55125,  23807,  54270,  10241,    117,    100,\n",
            "         11279,    117,  61381,  94218,  36829,  37067,  13251,  93283,  41021,\n",
            "         12181,    117,    572,  11429,  34761,  10517,    117,  10791,  10387,\n",
            "         49048,  56051,  13686,    118, 103835,  12614,  10316,    119,  19597,\n",
            "         49048,  56051,  10234,  18685,  10205,    560,  53204,  46672,  59373,\n",
            "         20539,  25217,  10387,  55506,  18261,  10510,  10541,    117,  27353,\n",
            "        103270,  36049,  10625,  10122,    208,    556,    220,    119,  21124,\n",
            "         10351,    117,  12999,  10375,  11663,    117,    555,  18658,  96195,\n",
            "         11429,  34761,  10783,    119,  57090,  11663,  42638,    117,  10949,\n",
            "           549,  16318,  15597,  10375,  42940,  14315,  15419,  45498,    117,\n",
            "         61381,  10928,  13081,  12861,    560,  97744,  15657,    117,    572,\n",
            "         62416,    548,  25829,    558,    571,  10970,  12773,    113,    543,\n",
            "         18658,  12450,  10241,  72284,  23807,  41054,  15811,    560, 107813,\n",
            "         56051,    114,    119,    540,  24504,  10593,    543,  50548,  42638,\n",
            "           208,  30532,    220,    543,  19420,  10956,  69022, 104985,    117,\n",
            "         10949,    208,  30532,    572,  96195,  89887,  54115,    220,  10880,\n",
            "           208,  13721,  30532,    572,  10297,  47514,    220,    119,  30417,\n",
            "           117,  40182,  30148,  18256,  43128,  68923,  18685,    117,  11279,\n",
            "           572,  10375,    548,  10409,  10593,    117,  10949,    102])\n",
            "Attention Mask 4: tensor([1, 1, 1, 1, 1, 1, 1, 1, 1, 1, 1, 1, 1, 1, 1, 1, 1, 1, 1, 1, 1, 1, 1, 1,\n",
            "        1, 1, 1, 1, 1, 1, 1, 1, 1, 1, 1, 1, 1, 1, 1, 1, 1, 1, 1, 1, 1, 1, 1, 1,\n",
            "        1, 1, 1, 1, 1, 1, 1, 1, 1, 1, 1, 1, 1, 1, 1, 1, 1, 1, 1, 1, 1, 1, 1, 1,\n",
            "        1, 1, 1, 1, 1, 1, 1, 1, 1, 1, 1, 1, 1, 1, 1, 1, 1, 1, 1, 1, 1, 1, 1, 1,\n",
            "        1, 1, 1, 1, 1, 1, 1, 1, 1, 1, 1, 1, 1, 1, 1, 1, 1, 1, 1, 1, 1, 1, 1, 1,\n",
            "        1, 1, 1, 1, 1, 1, 1, 1, 1, 1, 1, 1, 1, 1, 1, 1, 1, 1, 1, 1, 1, 1, 1, 1,\n",
            "        1, 1, 1, 1, 1, 1, 1, 1, 1, 1, 1, 1, 1, 1, 1, 1, 1, 1, 1, 1, 1, 1, 1, 1,\n",
            "        1, 1, 1, 1, 1, 1, 1, 1, 1, 1, 1, 1, 1, 1, 1, 1, 1, 1, 1, 1, 1, 1, 1, 1,\n",
            "        1, 1, 1, 1, 1, 1, 1, 1, 1, 1, 1, 1, 1, 1, 1, 1, 1, 1, 1, 1, 1, 1, 1, 1,\n",
            "        1, 1, 1, 1, 1, 1, 1, 1, 1, 1, 1, 1, 1, 1, 1, 1, 1, 1, 1, 1, 1, 1, 1, 1,\n",
            "        1, 1, 1, 1, 1, 1, 1, 1, 1, 1, 1, 1, 1, 1, 1, 1, 1, 1, 1, 1, 1, 1, 1, 1,\n",
            "        1, 1, 1, 1, 1, 1, 1, 1, 1, 1, 1, 1, 1, 1, 1, 1, 1, 1, 1, 1, 1, 1, 1, 1,\n",
            "        1, 1, 1, 1, 1, 1, 1, 1, 1, 1, 1, 1, 1, 1, 1, 1, 1, 1, 1, 1, 1, 1, 1, 1,\n",
            "        1, 1, 1, 1, 1, 1, 1, 1, 1, 1, 1, 1, 1, 1, 1, 1, 1, 1, 1, 1, 1, 1, 1, 1,\n",
            "        1, 1, 1, 1, 1, 1, 1, 1, 1, 1, 1, 1, 1, 1, 1, 1, 1, 1, 1, 1, 1, 1, 1, 1,\n",
            "        1, 1, 1, 1, 1, 1, 1, 1, 1, 1, 1, 1, 1, 1, 1, 1, 1, 1, 1, 1, 1, 1, 1, 1,\n",
            "        1, 1, 1, 1, 1, 1, 1, 1, 1, 1, 1, 1, 1, 1, 1, 1, 1, 1, 1, 1, 1, 1, 1, 1,\n",
            "        1, 1, 1, 1, 1, 1, 1, 1, 1, 1, 1, 1, 1, 1, 1, 1, 1, 1, 1, 1, 1, 1, 1, 1,\n",
            "        1, 1, 1, 1, 1, 1, 1, 1, 1, 1, 1, 1, 1, 1, 1, 1, 1, 1, 1, 1, 1, 1, 1, 1,\n",
            "        1, 1, 1, 1, 1, 1, 1, 1, 1, 1, 1, 1, 1, 1, 1, 1, 1, 1, 1, 1, 1, 1, 1, 1,\n",
            "        1, 1, 1, 1, 1, 1, 1, 1, 1, 1, 1, 1, 1, 1, 1, 1, 1, 1, 1, 1, 1, 1, 1, 1,\n",
            "        1, 1, 1, 1, 1, 1, 1, 1])\n",
            "Number of 0s in Token IDs 4: 0\n",
            "Number of 0s in Attention Mask 4: 0\n"
          ]
        }
      ]
    },
    {
      "cell_type": "code",
      "metadata": {
        "id": "vO3MaaVkuI-c",
        "outputId": "51287b55-91df-4120-88dc-ea0a44673392",
        "colab": {
          "base_uri": "https://localhost:8080/"
        }
      },
      "source": [
        "# Combine the training inputs into a TensorDataset.\n",
        "dataset = TensorDataset(input_ids, attention_masks, labels)\n",
        "\n",
        "# Create a 80-10-10 train-validation-test split\n",
        "\n",
        "# Calculate the number of samples to include in each set.\n",
        "train_size = int(0.7 * len(dataset))\n",
        "print(len(dataset))\n",
        "val_size = int(0.1* len(dataset))\n",
        "test_size = len(dataset) - train_size - val_size\n",
        "\n",
        "# Divide the dataset by randomly selecting samples.\n",
        "train_dataset, val_dataset, test_dataset = random_split(dataset, [train_size, val_size, test_size])\n",
        "\n",
        "print(f\"{train_size} training samples\")\n",
        "print(f\"{val_size} validation samples\")\n",
        "print(f\"{test_size} test samples\")\n",
        "\n"
      ],
      "execution_count": 88,
      "outputs": [
        {
          "output_type": "stream",
          "name": "stdout",
          "text": [
            "7334\n",
            "5133 training samples\n",
            "733 validation samples\n",
            "1468 test samples\n"
          ]
        }
      ]
    },
    {
      "cell_type": "code",
      "metadata": {
        "id": "ZiHoD0KoNpZq"
      },
      "source": [
        "# The DataLoader needs to know our batch size for training, so we specify it\n",
        "# here. For fine-tuning BERT on a specific task, the authors recommend a batch\n",
        "# size of 16 or 32.\n",
        "batch_size = 16\n",
        "\n",
        "# Create the DataLoaders for our training and validation sets.\n",
        "# We'll take training samples in random order.\n",
        "train_dataloader = DataLoader(\n",
        "            train_dataset,\n",
        "            sampler = RandomSampler(train_dataset),\n",
        "            batch_size = batch_size\n",
        "        )\n",
        "\n",
        "# For validation the order doesn't matter, so we'll just read them sequentially.\n",
        "validation_dataloader = DataLoader(\n",
        "            val_dataset,\n",
        "            sampler = SequentialSampler(val_dataset),\n",
        "            batch_size = batch_size\n",
        "        )\n",
        "\n",
        "# For test the order doesn't matter, so we'll just read them sequentially.\n",
        "test_dataloader = DataLoader(\n",
        "            test_dataset,\n",
        "            sampler = SequentialSampler(test_dataset),\n",
        "            batch_size = batch_size\n",
        "        )"
      ],
      "execution_count": 89,
      "outputs": []
    },
    {
      "cell_type": "code",
      "source": [
        "# Function to print DataLoader details\n",
        "def print_dataloader_details(dataloader, name):\n",
        "    print(f\"Details of {name}:\")\n",
        "    # Print number of batches\n",
        "    print(f\"Number of batches: {len(dataloader)}\")\n",
        "    # Print batch size\n",
        "    batch_size = dataloader.batch_size\n",
        "    print(f\"Batch size: {batch_size}\")\n",
        "\n",
        "    # Print details of the first batch\n",
        "    first_batch = next(iter(dataloader))\n",
        "    print(\"\\nDetails of the first batch:\")\n",
        "    print(f\"Input IDs shape: {first_batch[0].shape}\")\n",
        "    print(f\"Attention Masks shape: {first_batch[1].shape}\")\n",
        "    print(f\"Labels shape: {first_batch[2].shape}\")\n",
        "\n",
        "# Print details for training, validation, and test dataloaders\n",
        "print_dataloader_details(train_dataloader, \"Training DataLoader\")\n",
        "print_dataloader_details(validation_dataloader, \"Validation DataLoader\")\n",
        "print_dataloader_details(test_dataloader, \"Test DataLoader\")\n"
      ],
      "metadata": {
        "colab": {
          "base_uri": "https://localhost:8080/"
        },
        "id": "zGzH0sOrV9CQ",
        "outputId": "426dd000-b51e-4b68-fa85-fa9db69f2887"
      },
      "execution_count": 61,
      "outputs": [
        {
          "output_type": "stream",
          "name": "stdout",
          "text": [
            "Details of Training DataLoader:\n",
            "Number of batches: 322\n",
            "Batch size: 16\n",
            "\n",
            "Details of the first batch:\n",
            "Input IDs shape: torch.Size([16, 512])\n",
            "Attention Masks shape: torch.Size([16, 512])\n",
            "Labels shape: torch.Size([16])\n",
            "Details of Validation DataLoader:\n",
            "Number of batches: 46\n",
            "Batch size: 16\n",
            "\n",
            "Details of the first batch:\n",
            "Input IDs shape: torch.Size([16, 512])\n",
            "Attention Masks shape: torch.Size([16, 512])\n",
            "Labels shape: torch.Size([16])\n",
            "Details of Test DataLoader:\n",
            "Number of batches: 92\n",
            "Batch size: 16\n",
            "\n",
            "Details of the first batch:\n",
            "Input IDs shape: torch.Size([16, 512])\n",
            "Attention Masks shape: torch.Size([16, 512])\n",
            "Labels shape: torch.Size([16])\n"
          ]
        }
      ]
    },
    {
      "cell_type": "markdown",
      "metadata": {
        "id": "m1IY9cwiAUCZ"
      },
      "source": [
        "## Create and Train Model"
      ]
    },
    {
      "cell_type": "code",
      "metadata": {
        "id": "fWfvlMlBg-3_",
        "outputId": "e837d6bd-a043-40dc-f210-cedc87112c53",
        "colab": {
          "base_uri": "https://localhost:8080/"
        }
      },
      "source": [
        "from transformers import AutoModelForSequenceClassification, AutoConfig\n",
        "\n",
        "\n",
        "\n",
        "# Load pretrained model for sequence classification\n",
        "print(f\"Loading {model_name} model...\")\n",
        "config = AutoConfig.from_pretrained(model_name)\n",
        "\n",
        "# Set the number of labels (number of classes)\n",
        "config.num_labels = len(label_names)  # Ensure this is set to 11 for 0-10 labels\n",
        "\n",
        "model = AutoModelForSequenceClassification.from_pretrained(\n",
        "    model_name,\n",
        "    config=config\n",
        ")\n",
        "\n",
        "# Tell pytorch to run this model on the GPU.\n",
        "model.cuda()\n"
      ],
      "execution_count": 90,
      "outputs": [
        {
          "output_type": "stream",
          "name": "stderr",
          "text": [
            "Some weights of BertForSequenceClassification were not initialized from the model checkpoint at bert-base-multilingual-cased and are newly initialized: ['classifier.bias', 'classifier.weight']\n",
            "You should probably TRAIN this model on a down-stream task to be able to use it for predictions and inference.\n"
          ]
        },
        {
          "output_type": "stream",
          "name": "stdout",
          "text": [
            "Loading bert-base-multilingual-cased model...\n"
          ]
        },
        {
          "output_type": "execute_result",
          "data": {
            "text/plain": [
              "BertForSequenceClassification(\n",
              "  (bert): BertModel(\n",
              "    (embeddings): BertEmbeddings(\n",
              "      (word_embeddings): Embedding(119547, 768, padding_idx=0)\n",
              "      (position_embeddings): Embedding(512, 768)\n",
              "      (token_type_embeddings): Embedding(2, 768)\n",
              "      (LayerNorm): LayerNorm((768,), eps=1e-12, elementwise_affine=True)\n",
              "      (dropout): Dropout(p=0.1, inplace=False)\n",
              "    )\n",
              "    (encoder): BertEncoder(\n",
              "      (layer): ModuleList(\n",
              "        (0-11): 12 x BertLayer(\n",
              "          (attention): BertAttention(\n",
              "            (self): BertSdpaSelfAttention(\n",
              "              (query): Linear(in_features=768, out_features=768, bias=True)\n",
              "              (key): Linear(in_features=768, out_features=768, bias=True)\n",
              "              (value): Linear(in_features=768, out_features=768, bias=True)\n",
              "              (dropout): Dropout(p=0.1, inplace=False)\n",
              "            )\n",
              "            (output): BertSelfOutput(\n",
              "              (dense): Linear(in_features=768, out_features=768, bias=True)\n",
              "              (LayerNorm): LayerNorm((768,), eps=1e-12, elementwise_affine=True)\n",
              "              (dropout): Dropout(p=0.1, inplace=False)\n",
              "            )\n",
              "          )\n",
              "          (intermediate): BertIntermediate(\n",
              "            (dense): Linear(in_features=768, out_features=3072, bias=True)\n",
              "            (intermediate_act_fn): GELUActivation()\n",
              "          )\n",
              "          (output): BertOutput(\n",
              "            (dense): Linear(in_features=3072, out_features=768, bias=True)\n",
              "            (LayerNorm): LayerNorm((768,), eps=1e-12, elementwise_affine=True)\n",
              "            (dropout): Dropout(p=0.1, inplace=False)\n",
              "          )\n",
              "        )\n",
              "      )\n",
              "    )\n",
              "    (pooler): BertPooler(\n",
              "      (dense): Linear(in_features=768, out_features=768, bias=True)\n",
              "      (activation): Tanh()\n",
              "    )\n",
              "  )\n",
              "  (dropout): Dropout(p=0.1, inplace=False)\n",
              "  (classifier): Linear(in_features=768, out_features=11, bias=True)\n",
              ")"
            ]
          },
          "metadata": {},
          "execution_count": 90
        }
      ]
    },
    {
      "cell_type": "code",
      "metadata": {
        "id": "WIBG_g36utJA",
        "outputId": "674529cc-48ab-43c7-94f2-6e0445b1ae81",
        "colab": {
          "base_uri": "https://localhost:8080/"
        }
      },
      "source": [
        "# Get all of the model's parameters as a list of tuples.\n",
        "params = list(model.named_parameters())\n",
        "\n",
        "print('The model has {:} different named parameters.\\n'.format(len(params)))\n",
        "\n",
        "print('==== Embedding Layer ====\\n')\n",
        "\n",
        "for p in params[0:5]:\n",
        "    print(\"{:<55} {:>12}\".format(p[0], str(tuple(p[1].size()))))\n",
        "\n",
        "print('\\n==== First Transformer ====\\n')\n",
        "\n",
        "for p in params[5:21]:\n",
        "    print(\"{:<55} {:>12}\".format(p[0], str(tuple(p[1].size()))))\n",
        "\n",
        "print('\\n==== Output Layer ====\\n')\n",
        "\n",
        "for p in params[-4:]:\n",
        "    print(\"{:<55} {:>12}\".format(p[0], str(tuple(p[1].size()))))"
      ],
      "execution_count": 91,
      "outputs": [
        {
          "output_type": "stream",
          "name": "stdout",
          "text": [
            "The model has 201 different named parameters.\n",
            "\n",
            "==== Embedding Layer ====\n",
            "\n",
            "bert.embeddings.word_embeddings.weight                  (119547, 768)\n",
            "bert.embeddings.position_embeddings.weight                (512, 768)\n",
            "bert.embeddings.token_type_embeddings.weight                (2, 768)\n",
            "bert.embeddings.LayerNorm.weight                              (768,)\n",
            "bert.embeddings.LayerNorm.bias                                (768,)\n",
            "\n",
            "==== First Transformer ====\n",
            "\n",
            "bert.encoder.layer.0.attention.self.query.weight          (768, 768)\n",
            "bert.encoder.layer.0.attention.self.query.bias                (768,)\n",
            "bert.encoder.layer.0.attention.self.key.weight            (768, 768)\n",
            "bert.encoder.layer.0.attention.self.key.bias                  (768,)\n",
            "bert.encoder.layer.0.attention.self.value.weight          (768, 768)\n",
            "bert.encoder.layer.0.attention.self.value.bias                (768,)\n",
            "bert.encoder.layer.0.attention.output.dense.weight        (768, 768)\n",
            "bert.encoder.layer.0.attention.output.dense.bias              (768,)\n",
            "bert.encoder.layer.0.attention.output.LayerNorm.weight        (768,)\n",
            "bert.encoder.layer.0.attention.output.LayerNorm.bias          (768,)\n",
            "bert.encoder.layer.0.intermediate.dense.weight           (3072, 768)\n",
            "bert.encoder.layer.0.intermediate.dense.bias                 (3072,)\n",
            "bert.encoder.layer.0.output.dense.weight                 (768, 3072)\n",
            "bert.encoder.layer.0.output.dense.bias                        (768,)\n",
            "bert.encoder.layer.0.output.LayerNorm.weight                  (768,)\n",
            "bert.encoder.layer.0.output.LayerNorm.bias                    (768,)\n",
            "\n",
            "==== Output Layer ====\n",
            "\n",
            "bert.pooler.dense.weight                                  (768, 768)\n",
            "bert.pooler.dense.bias                                        (768,)\n",
            "classifier.weight                                          (11, 768)\n",
            "classifier.bias                                                (11,)\n"
          ]
        }
      ]
    },
    {
      "cell_type": "code",
      "metadata": {
        "id": "Xzojbxacu1ee"
      },
      "source": [
        "# Note: AdamW is a class from the huggingface library (as opposed to pytorch)\n",
        "# I believe the 'W' stands for 'Weight Decay fix\"\n",
        "optimizer = AdamW(model.parameters(),\n",
        "                  lr = 2e-5, # args.learning_rate - default is 5e-5, our notebook had 2e-5, у меня 1e-3\n",
        "                  eps = 1e-8 # args.adam_epsilon  - default is 1e-8.\n",
        "                )\n"
      ],
      "execution_count": 92,
      "outputs": []
    },
    {
      "cell_type": "code",
      "metadata": {
        "id": "OFeBj0EhyGlx"
      },
      "source": [
        "# Number of training epochs. The BERT authors recommend between 2 and 4.\n",
        "epochs = 16\n",
        "\n",
        "# Total number of training steps is [number of batches] x [number of epochs].\n",
        "# (Note that this is not the same as the number of training samples).\n",
        "total_steps = len(train_dataloader) * epochs\n",
        "\n",
        "# Create the learning rate scheduler.\n",
        "scheduler = get_linear_schedule_with_warmup(optimizer,\n",
        "                                            num_warmup_steps = 0, # Default value in run_glue.py\n",
        "                                            num_training_steps = total_steps)\n",
        "\n",
        "epochs=3"
      ],
      "execution_count": 93,
      "outputs": []
    },
    {
      "cell_type": "code",
      "metadata": {
        "id": "bs5ImW58hZ4-"
      },
      "source": [
        "# Function to calculate the accuracy of our predictions vs labels\n",
        "def flat_accuracy(preds, labels):\n",
        "    pred_flat = np.argmax(preds, axis=1).flatten()\n",
        "    labels_flat = labels.flatten()\n",
        "    return np.sum(pred_flat == labels_flat) / len(labels_flat)"
      ],
      "execution_count": 94,
      "outputs": []
    },
    {
      "cell_type": "code",
      "metadata": {
        "id": "CbwgopNUhm-M"
      },
      "source": [
        "def format_time(elapsed):\n",
        "    '''\n",
        "    Takes a time in seconds and returns a string hh:mm:ss\n",
        "    '''\n",
        "    # Round to the nearest second.\n",
        "    elapsed_rounded = int(round((elapsed)))\n",
        "\n",
        "    # Format as hh:mm:ss\n",
        "    return str(datetime.timedelta(seconds=elapsed_rounded))\n"
      ],
      "execution_count": 95,
      "outputs": []
    },
    {
      "cell_type": "code",
      "metadata": {
        "id": "Ub1-0NFChoc6",
        "outputId": "884335db-3dac-446d-fb80-fe4fb671c592",
        "colab": {
          "base_uri": "https://localhost:8080/"
        }
      },
      "source": [
        "import time\n",
        "import random\n",
        "import numpy as np\n",
        "import torch\n",
        "from torch.utils.data import DataLoader\n",
        "\n",
        "# Set the seed value for reproducibility\n",
        "seed_val = 42\n",
        "random.seed(seed_val)\n",
        "np.random.seed(seed_val)\n",
        "torch.manual_seed(seed_val)\n",
        "torch.cuda.manual_seed_all(seed_val)\n",
        "\n",
        "# Set the device to GPU if available\n",
        "device = torch.device(\"cuda\" if torch.cuda.is_available() else \"cpu\")\n",
        "\n",
        "# Example model initialization (replace with your model)\n",
        "# model = YourModelClass().to(device)\n",
        "\n",
        "# Example dataloaders (replace with your dataloaders)\n",
        "# train_dataloader = DataLoader(...)\n",
        "# validation_dataloader = DataLoader(...)\n",
        "\n",
        "# Example optimizer and scheduler (replace with your optimizer and scheduler)\n",
        "# optimizer = torch.optim.AdamW(model.parameters(), lr=1e-5)\n",
        "# scheduler = torch.optim.lr_scheduler.StepLR(optimizer, step_size=1, gamma=0.1)\n",
        "\n",
        "def format_time(seconds):\n",
        "    \"\"\"Converts a time in seconds into a string of format h:mm:ss\"\"\"\n",
        "    return str(time.strftime(\"%H:%M:%S\", time.gmtime(seconds)))\n",
        "\n",
        "def train():\n",
        "    \"\"\"Function to train the model\"\"\"\n",
        "    model.train()\n",
        "    total_train_loss = 0\n",
        "\n",
        "    for step, batch in enumerate(train_dataloader):\n",
        "        if step % 40 == 0 and step != 0:\n",
        "            elapsed = format_time(time.time() - t0)\n",
        "            print(f'  Batch {step:>5,} of {len(train_dataloader):>5,}. Elapsed: {elapsed}.')\n",
        "\n",
        "        b_input_ids = batch[0].to(device)\n",
        "        b_input_mask = batch[1].to(device)\n",
        "        b_labels = batch[2].to(device)\n",
        "\n",
        "        model.zero_grad()\n",
        "        outputs = model(input_ids=b_input_ids, attention_mask=b_input_mask, labels=b_labels)\n",
        "\n",
        "        # Check the outputs to handle the unpacking\n",
        "        if isinstance(outputs, tuple):\n",
        "            loss = outputs[0]\n",
        "            logits = outputs[1]\n",
        "        else:\n",
        "            # Handle cases where the model might return a single output\n",
        "            loss = outputs.loss\n",
        "            logits = outputs.logits\n",
        "\n",
        "        total_train_loss += loss.item()\n",
        "        loss.backward()\n",
        "        torch.nn.utils.clip_grad_norm_(model.parameters(), 1.0)\n",
        "        optimizer.step()\n",
        "        scheduler.step()\n",
        "\n",
        "    avg_train_loss = total_train_loss / len(train_dataloader)\n",
        "    return avg_train_loss\n",
        "\n",
        "def evaluate():\n",
        "    \"\"\"Function to evaluate the model\"\"\"\n",
        "    model.eval()\n",
        "    total_eval_accuracy = 0\n",
        "    total_eval_loss = 0\n",
        "\n",
        "    for batch in validation_dataloader:\n",
        "        b_input_ids = batch[0].to(device)\n",
        "        b_input_mask = batch[1].to(device)\n",
        "        b_labels = batch[2].to(device)\n",
        "\n",
        "        with torch.no_grad():\n",
        "            outputs = model(input_ids=b_input_ids, attention_mask=b_input_mask, labels=b_labels)\n",
        "\n",
        "        if isinstance(outputs, tuple):\n",
        "            loss = outputs[0]\n",
        "            logits = outputs[1]\n",
        "        else:\n",
        "            loss = outputs.loss\n",
        "            logits = outputs.logits\n",
        "\n",
        "        total_eval_loss += loss.item()\n",
        "        logits = logits.detach().cpu().numpy()\n",
        "        label_ids = b_labels.cpu().numpy()\n",
        "        total_eval_accuracy += flat_accuracy(logits, label_ids)\n",
        "\n",
        "    avg_val_accuracy = total_eval_accuracy / len(validation_dataloader)\n",
        "    avg_val_loss = total_eval_loss / len(validation_dataloader)\n",
        "\n",
        "    return avg_val_loss, avg_val_accuracy\n",
        "\n",
        "# Training loop\n",
        "epochs = epochs  # Set your number of epochs\n",
        "training_stats = []\n",
        "total_t0 = time.time()\n",
        "\n",
        "for epoch_i in range(epochs):\n",
        "    print(f\"\\n======== Epoch {epoch_i + 1} / {epochs} ========\")\n",
        "    print(\"Training...\")\n",
        "\n",
        "    t0 = time.time()\n",
        "    avg_train_loss = train()\n",
        "    training_time = format_time(time.time() - t0)\n",
        "\n",
        "    print(f\"  Average training loss: {avg_train_loss:.2f}\")\n",
        "    print(f\"  Training epoch took: {training_time}\")\n",
        "\n",
        "    print(\"\\nRunning Validation...\")\n",
        "    t0 = time.time()\n",
        "    avg_val_loss, avg_val_accuracy = evaluate()\n",
        "    validation_time = format_time(time.time() - t0)\n",
        "\n",
        "    print(f\"  Validation Loss: {avg_val_loss:.2f}\")\n",
        "    print(f\"  Validation Accuracy: {avg_val_accuracy:.2f}\")\n",
        "    print(f\"  Validation took: {validation_time}\")\n",
        "\n",
        "    training_stats.append({\n",
        "        'epoch': epoch_i + 1,\n",
        "        'Training Loss': avg_train_loss,\n",
        "        'Valid. Loss': avg_val_loss,\n",
        "        'Valid. Accur.': avg_val_accuracy,\n",
        "        'Training Time': training_time,\n",
        "        'Validation Time': validation_time\n",
        "    })\n",
        "\n",
        "print(f\"\\nTraining complete! Total training took {format_time(time.time() - total_t0)} (h:mm:ss)\")\n",
        "\n",
        "\n"
      ],
      "execution_count": 96,
      "outputs": [
        {
          "output_type": "stream",
          "name": "stdout",
          "text": [
            "\n",
            "======== Epoch 1 / 3 ========\n",
            "Training...\n",
            "  Batch    40 of   321. Elapsed: 00:00:26.\n",
            "  Batch    80 of   321. Elapsed: 00:00:54.\n",
            "  Batch   120 of   321. Elapsed: 00:01:22.\n",
            "  Batch   160 of   321. Elapsed: 00:01:50.\n",
            "  Batch   200 of   321. Elapsed: 00:02:18.\n",
            "  Batch   240 of   321. Elapsed: 00:02:47.\n",
            "  Batch   280 of   321. Elapsed: 00:03:15.\n",
            "  Batch   320 of   321. Elapsed: 00:03:42.\n",
            "  Average training loss: 1.76\n",
            "  Training epoch took: 00:03:43\n",
            "\n",
            "Running Validation...\n",
            "  Validation Loss: 1.32\n",
            "  Validation Accuracy: 0.57\n",
            "  Validation took: 00:00:11\n",
            "\n",
            "======== Epoch 2 / 3 ========\n",
            "Training...\n",
            "  Batch    40 of   321. Elapsed: 00:00:27.\n",
            "  Batch    80 of   321. Elapsed: 00:00:55.\n",
            "  Batch   120 of   321. Elapsed: 00:01:23.\n",
            "  Batch   160 of   321. Elapsed: 00:01:51.\n",
            "  Batch   200 of   321. Elapsed: 00:02:19.\n",
            "  Batch   240 of   321. Elapsed: 00:02:47.\n",
            "  Batch   280 of   321. Elapsed: 00:03:15.\n",
            "  Batch   320 of   321. Elapsed: 00:03:43.\n",
            "  Average training loss: 1.21\n",
            "  Training epoch took: 00:03:44\n",
            "\n",
            "Running Validation...\n",
            "  Validation Loss: 1.18\n",
            "  Validation Accuracy: 0.59\n",
            "  Validation took: 00:00:11\n",
            "\n",
            "======== Epoch 3 / 3 ========\n",
            "Training...\n",
            "  Batch    40 of   321. Elapsed: 00:00:27.\n",
            "  Batch    80 of   321. Elapsed: 00:00:55.\n",
            "  Batch   120 of   321. Elapsed: 00:01:23.\n",
            "  Batch   160 of   321. Elapsed: 00:01:51.\n",
            "  Batch   200 of   321. Elapsed: 00:02:19.\n",
            "  Batch   240 of   321. Elapsed: 00:02:47.\n",
            "  Batch   280 of   321. Elapsed: 00:03:15.\n",
            "  Batch   320 of   321. Elapsed: 00:03:43.\n",
            "  Average training loss: 0.99\n",
            "  Training epoch took: 00:03:44\n",
            "\n",
            "Running Validation...\n",
            "  Validation Loss: 1.19\n",
            "  Validation Accuracy: 0.60\n",
            "  Validation took: 00:00:11\n",
            "\n",
            "Training complete! Total training took 00:11:45 (h:mm:ss)\n"
          ]
        }
      ]
    },
    {
      "cell_type": "code",
      "metadata": {
        "id": "Qxik8IiPhvXC",
        "outputId": "0a527cc1-5ec9-41da-aecf-012d477d6ecf",
        "colab": {
          "base_uri": "https://localhost:8080/"
        }
      },
      "source": [
        "import pandas as pd\n",
        "\n",
        "# Set float display precision to two decimal places.\n",
        "pd.set_option('display.float_format', lambda x: f'{x:.2f}')\n",
        "\n",
        "# Create a DataFrame from your training statistics.\n",
        "df_stats = pd.DataFrame(data=training_stats)\n",
        "\n",
        "# Use the 'epoch' as the row index.\n",
        "df_stats = df_stats.set_index('epoch')\n",
        "\n",
        "# Display the table.\n",
        "print(df_stats)\n"
      ],
      "execution_count": 97,
      "outputs": [
        {
          "output_type": "stream",
          "name": "stdout",
          "text": [
            "       Training Loss  Valid. Loss  Valid. Accur. Training Time Validation Time\n",
            "epoch                                                                         \n",
            "1               1.76         1.32           0.57      00:03:43        00:00:11\n",
            "2               1.21         1.18           0.59      00:03:44        00:00:11\n",
            "3               0.99         1.19           0.60      00:03:44        00:00:11\n"
          ]
        }
      ]
    },
    {
      "cell_type": "code",
      "metadata": {
        "id": "v2G-EegN85iC",
        "outputId": "ffc72f29-ed9d-48db-c760-6abc8225ed82",
        "colab": {
          "base_uri": "https://localhost:8080/",
          "height": 592
        }
      },
      "source": [
        "import matplotlib.pyplot as plt\n",
        "import seaborn as sns\n",
        "\n",
        "# Plot styling\n",
        "sns.set(style='darkgrid')\n",
        "sns.set(font_scale=1.5)\n",
        "plt.rcParams[\"figure.figsize\"] = (12,6)\n",
        "\n",
        "# Plotting\n",
        "plt.plot(df_stats['Training Loss'], 'b-o', label=\"Training\")\n",
        "plt.plot(df_stats['Valid. Loss'], 'g-o', label=\"Validation\")\n",
        "\n",
        "# Labeling\n",
        "plt.title(\"Training & Validation Loss\")\n",
        "plt.xlabel(\"Epoch\")\n",
        "plt.ylabel(\"Loss\")\n",
        "plt.legend()\n",
        "plt.xticks(ticks=range(len(df_stats.index)), labels=df_stats.index)\n",
        "\n",
        "# Show plot\n",
        "plt.show()\n"
      ],
      "execution_count": 98,
      "outputs": [
        {
          "output_type": "display_data",
          "data": {
            "text/plain": [
              "<Figure size 1200x600 with 1 Axes>"
            ],
            "image/png": "[encoded data removed]"
          },
          "metadata": {}
        }
      ]
    },
    {
      "cell_type": "markdown",
      "metadata": {
        "id": "fWmaN_QFZKvd"
      },
      "source": [
        "## Evaluation on Test Set"
      ]
    },
    {
      "cell_type": "code",
      "metadata": {
        "id": "rhhTNEe2ZQM-",
        "outputId": "6db7d76b-cc34-41a5-c37c-2addab5b6ffc",
        "colab": {
          "base_uri": "https://localhost:8080/"
        }
      },
      "source": [
        "# Prediction on test set\n",
        "\n",
        "print(\"Predicting labels ...\")\n",
        "\n",
        "# Put model in evaluation mode\n",
        "model.eval()\n",
        "\n",
        "# Tracking variables\n",
        "predictions , true_labels = [], []\n",
        "\n",
        "# Predict\n",
        "for batch in test_dataloader:\n",
        "  # Add batch to GPU\n",
        "  batch = tuple(t.to(device) for t in batch)\n",
        "\n",
        "  # Unpack the inputs from our dataloader\n",
        "  b_input_ids, b_input_mask, b_labels = batch\n",
        "\n",
        "  # Telling the model not to compute or store gradients, saving memory and\n",
        "  # speeding up prediction\n",
        "  with torch.no_grad():\n",
        "      # Forward pass, calculate logit predictions\n",
        "      outputs = model(input_ids=b_input_ids,\n",
        "                      attention_mask=b_input_mask)\n",
        "\n",
        "  logits = outputs[0]\n",
        "\n",
        "  # Move logits and labels to CPU\n",
        "  logits = logits.detach().cpu().numpy()\n",
        "  label_ids = b_labels.to('cpu').numpy()\n",
        "\n",
        "  # Store predictions and true labels\n",
        "  predictions.extend(logits)\n",
        "  true_labels.extend(label_ids)\n",
        "\n",
        "print(f\"Predicted {len(predictions)} samples\")"
      ],
      "execution_count": 107,
      "outputs": [
        {
          "output_type": "stream",
          "name": "stdout",
          "text": [
            "Predicting labels ...\n",
            "Predicted 1468 samples\n"
          ]
        }
      ]
    },
    {
      "cell_type": "code",
      "metadata": {
        "id": "htdXUiYk7fyB",
        "outputId": "b6dd776e-5111-4e8b-ca55-67fdd26ba651",
        "colab": {
          "base_uri": "https://localhost:8080/"
        }
      },
      "source": [
        "predictions = np.argmax(predictions, axis=1)\n",
        "print(f\"Test set accuracy: {accuracy_score(true_labels, predictions)}\")\n",
        "print(f\"Test set Matthews correlation coefficient: {matthews_corrcoef(true_labels, predictions)}\")"
      ],
      "execution_count": 108,
      "outputs": [
        {
          "output_type": "stream",
          "name": "stdout",
          "text": [
            "Test set accuracy: 0.5783378746594006\n",
            "Test set Matthews correlation coefficient: 0.5228691533710695\n"
          ]
        }
      ]
    },
    {
      "cell_type": "code",
      "source": [
        "import numpy as np\n",
        "import pandas as pd\n",
        "from sklearn.metrics import classification_report\n",
        "\n",
        "# Prediction on test set\n",
        "print(\"Predicting labels ...\")\n",
        "\n",
        "# Put model in evaluation mode\n",
        "model.eval()\n",
        "\n",
        "# Tracking variables\n",
        "predictions, true_labels, all_logits = [], [], []\n",
        "\n",
        "# Predict\n",
        "for batch in test_dataloader:\n",
        "    # Add batch to GPU\n",
        "    batch = tuple(t.to(device) for t in batch)\n",
        "\n",
        "    # Unpack the inputs from our dataloader\n",
        "    b_input_ids, b_input_mask, b_labels = batch\n",
        "\n",
        "    # Telling the model not to compute or store gradients, saving memory and\n",
        "    # speeding up prediction\n",
        "    with torch.no_grad():\n",
        "        # Forward pass, calculate logit predictions\n",
        "        outputs = model(input_ids=b_input_ids, attention_mask=b_input_mask)\n",
        "\n",
        "    logits = outputs[0]\n",
        "\n",
        "    # Move logits and labels to CPU\n",
        "    logits = logits.detach().cpu().numpy()\n",
        "    label_ids = b_labels.to('cpu').numpy()\n",
        "    test_dataloader\n",
        "    # Store logits and true labels\n",
        "    all_logits.extend(logits)\n",
        "    true_labels.extend(label_ids)\n",
        "\n",
        "# Convert logits to class labels\n",
        "predictions = np.argmax(all_logits, axis=1)\n",
        "true_labels = np.array(true_labels).flatten()\n",
        "\n",
        "# Generate classification report\n",
        "report = classification_report(true_labels, predictions, output_dict=True, zero_division=0)\n",
        "\n",
        "# Print the classification report\n",
        "print(classification_report(true_labels, predictions, zero_division=0))\n",
        "\n",
        "# Save the classification report to a CSV file\n",
        "report_df = pd.DataFrame(report).transpose()\n",
        "report_df.to_csv('classification_report.csv', index=True)\n",
        "\n",
        "print(\"Classification report saved to 'classification_report.csv'\")\n",
        "\n",
        "# Create a DataFrame for detailed predictions after argmax\n",
        "detailed_predictions_df = pd.DataFrame({\n",
        "    'True Label': true_labels,\n",
        "    'Predicted Label': predictions,\n",
        "    'Logits': [logit.tolist() for logit in all_logits]  # Convert logits to list for CSV storage\n",
        "})\n",
        "\n",
        "# Save detailed predictions to a CSV file\n",
        "detailed_predictions_df.to_csv('detailed_predictions.csv', index=False)\n",
        "\n",
        "print(\"Detailed predictions saved to 'detailed_predictions.csv'\")\n",
        "\n"
      ],
      "metadata": {
        "colab": {
          "base_uri": "https://localhost:8080/"
        },
        "id": "wJWhjQU_xtH1",
        "outputId": "990d8a0f-55c1-46ff-ed8c-87980724b9f9"
      },
      "execution_count": 109,
      "outputs": [
        {
          "output_type": "stream",
          "name": "stdout",
          "text": [
            "Predicting labels ...\n",
            "              precision    recall  f1-score   support\n",
            "\n",
            "           0       0.37      0.53      0.43       109\n",
            "           1       0.33      0.04      0.07        24\n",
            "           2       0.68      0.58      0.63       194\n",
            "           3       0.52      0.63      0.57       207\n",
            "           4       0.59      0.54      0.56       211\n",
            "           5       0.00      0.00      0.00        36\n",
            "           6       0.65      0.75      0.69       204\n",
            "           7       0.74      0.59      0.66        96\n",
            "           8       0.50      0.39      0.44        61\n",
            "           9       0.78      0.78      0.78       153\n",
            "          10       0.44      0.45      0.45       173\n",
            "\n",
            "    accuracy                           0.58      1468\n",
            "   macro avg       0.51      0.48      0.48      1468\n",
            "weighted avg       0.57      0.58      0.57      1468\n",
            "\n",
            "Classification report saved to 'classification_report.csv'\n",
            "Detailed predictions saved to 'detailed_predictions.csv'\n"
          ]
        }
      ]
    },
    {
      "cell_type": "code",
      "source": [
        "# Get training predictions and labels\n",
        "train_predictions = []\n",
        "train_true_labels = []\n",
        "\n",
        "for batch in train_dataloader:\n",
        "    batch = tuple(t.to(device) for t in batch)\n",
        "    b_input_ids, b_input_mask, b_labels = batch\n",
        "    with torch.no_grad():\n",
        "        outputs = model(input_ids=b_input_ids, attention_mask=b_input_mask)\n",
        "    logits = outputs[0]\n",
        "    logits = logits.detach().cpu().numpy()\n",
        "    label_ids = b_labels.to('cpu').numpy()\n",
        "    predictions = np.argmax(logits, axis=1)\n",
        "\n",
        "    train_predictions.extend(predictions)\n",
        "    train_true_labels.extend(label_ids)\n",
        "\n",
        "# Generate training classification report\n",
        "train_report = classification_report(train_true_labels, train_predictions, output_dict=True, zero_division=0)\n",
        "print(\"Training classification report:\\n\", train_report)\n"
      ],
      "metadata": {
        "colab": {
          "base_uri": "https://localhost:8080/"
        },
        "id": "HYOzRwNY0pyH",
        "outputId": "6c4a6b59-3aeb-4aee-f18e-7955b81494e6"
      },
      "execution_count": 36,
      "outputs": [
        {
          "output_type": "stream",
          "name": "stdout",
          "text": [
            "Training classification report:\n",
            " {'0': {'precision': 0.5, 'recall': 0.020642201834862386, 'f1-score': 0.039647577092511016, 'support': 436.0}, '1': {'precision': 0.0, 'recall': 0.0, 'f1-score': 0.0, 'support': 84.0}, '2': {'precision': 0.3991060025542784, 'recall': 0.9018759018759018, 'f1-score': 0.5533421868083223, 'support': 693.0}, '3': {'precision': 0.6673387096774194, 'recall': 0.49774436090225566, 'f1-score': 0.570198105081826, 'support': 665.0}, '4': {'precision': 0.6181575433911882, 'recall': 0.6739446870451238, 'f1-score': 0.6448467966573816, 'support': 687.0}, '5': {'precision': 0.0, 'recall': 0.0, 'f1-score': 0.0, 'support': 154.0}, '6': {'precision': 0.7221238938053097, 'recall': 0.5770862800565771, 'f1-score': 0.6415094339622641, 'support': 707.0}, '7': {'precision': 0.6351351351351351, 'recall': 0.7366771159874608, 'f1-score': 0.6821480406386067, 'support': 319.0}, '8': {'precision': 0.45933014354066987, 'recall': 0.463768115942029, 'f1-score': 0.46153846153846156, 'support': 207.0}, '9': {'precision': 0.77088948787062, 'recall': 0.89937106918239, 'f1-score': 0.8301886792452831, 'support': 636.0}, '10': {'precision': 0.49645390070921985, 'recall': 0.38181818181818183, 'f1-score': 0.4316546762589928, 'support': 550.0}, 'accuracy': 0.573958738808875, 'macro avg': {'precision': 0.4789577106076219, 'recall': 0.46844799224043476, 'f1-score': 0.44137035975305905, 'support': 5138.0}, 'weighted avg': {'precision': 0.5711563515828165, 'recall': 0.573958738808875, 'f1-score': 0.5362095944938656, 'support': 5138.0}}\n"
          ]
        }
      ]
    },
    {
      "cell_type": "markdown",
      "metadata": {
        "id": "F5EStuaZBGLk"
      },
      "source": [
        "## Save model to disk"
      ]
    },
    {
      "cell_type": "code",
      "metadata": {
        "id": "aZIqwQvuBKFZ",
        "outputId": "ff57e021-6e37-4c05-8cfe-7362bb5c56fc",
        "colab": {
          "base_uri": "https://localhost:8080/"
        }
      },
      "source": [
        "# Saving best-practices: if you use defaults names for the model, you can reload it using from_pretrained()\n",
        "\n",
        "output_dir = f\"./{model_name}/\"\n",
        "\n",
        "# Create output directory if needed\n",
        "if not os.path.exists(output_dir):\n",
        "    os.makedirs(output_dir)\n",
        "\n",
        "print(f\"Saving model to {output_dir}\")\n",
        "\n",
        "# Save a trained model, configuration and tokenizer using `save_pretrained()`.\n",
        "# They can then be reloaded using `from_pretrained()`\n",
        "model_to_save = model.module if hasattr(model, 'module') else model  # Take care of distributed/parallel training\n",
        "model_to_save.save_pretrained(output_dir)\n",
        "tokenizer.save_pretrained(output_dir)\n",
        "\n",
        "# Good practice: save your training arguments together with the trained model\n",
        "#torch.save(args, os.path.join(output_dir, 'training_args.bin'))\n"
      ],
      "execution_count": null,
      "outputs": [
        {
          "output_type": "stream",
          "name": "stdout",
          "text": [
            "Saving model to ./DeepPavlov/rubert-base-cased/\n"
          ]
        },
        {
          "output_type": "execute_result",
          "data": {
            "text/plain": [
              "('./DeepPavlov/rubert-base-cased/tokenizer_config.json',\n",
              " './DeepPavlov/rubert-base-cased/special_tokens_map.json',\n",
              " './DeepPavlov/rubert-base-cased/vocab.txt',\n",
              " './DeepPavlov/rubert-base-cased/added_tokens.json',\n",
              " './DeepPavlov/rubert-base-cased/tokenizer.json')"
            ]
          },
          "metadata": {},
          "execution_count": 57
        }
      ]
    },
    {
      "cell_type": "code",
      "metadata": {
        "id": "Le22WIOxhSaj",
        "outputId": "1b91b045-6845-4ab1-993c-dfe2f1cd767f",
        "colab": {
          "base_uri": "https://localhost:8080/",
          "height": 34
        }
      },
      "source": [
        "# Mount Google Drive to this Notebook instance.\n",
        "drive.mount('/content/drive')"
      ],
      "execution_count": null,
      "outputs": [
        {
          "output_type": "stream",
          "text": [
            "Mounted at /content/drive\n"
          ],
          "name": "stdout"
        }
      ]
    },
    {
      "cell_type": "code",
      "metadata": {
        "id": "WaXz2CrQhVyo"
      },
      "source": [
        "# Copy the model files to a directory in your Google Drive.\n",
        "target_dir = f\"\\\"./drive/My Drive/NLP/BERT CLF 10kGNAD/\\\"\"\n",
        "!cp -r $output_dir $target_dir"
      ],
      "execution_count": null,
      "outputs": []
    },
    {
      "cell_type": "markdown",
      "metadata": {
        "id": "_tXFWVdxh7Zd"
      },
      "source": [
        "## Load Model from Drive"
      ]
    },
    {
      "cell_type": "code",
      "metadata": {
        "id": "94-4pMG-h_G_",
        "outputId": "85be8835-6ea6-4b37-ff12-9ed14c343690",
        "colab": {
          "base_uri": "https://localhost:8080/",
          "height": 486
        }
      },
      "source": [
        "from google.colab import drive\n",
        "\n",
        "drive.mount('/content/drive', force_remount=True)\n",
        "output_dir = f\"./content/drive/MyDrive/Colab Notebooks/{model_name}/\"\n",
        "\n",
        "# Load a trained model and vocabulary that you have fine-tuned\n",
        "model = AutoModelForSequenceClassification.from_pretrained(output_dir)\n",
        "tokenizer = AutoTokenizer.from_pretrained(output_dir)\n",
        "\n",
        "# Copy the model to the GPU.\n",
        "model.to(device)"
      ],
      "execution_count": null,
      "outputs": [
        {
          "output_type": "stream",
          "name": "stdout",
          "text": [
            "Mounted at /content/drive\n"
          ]
        },
        {
          "output_type": "error",
          "ename": "OSError",
          "evalue": "Incorrect path_or_model_id: './content/drive/MyDrive/Colab Notebooks/DeepPavlov/rubert-base-cased/'. Please provide either the path to a local folder or the repo_id of a model on the Hub.",
          "traceback": [
            "\u001b[0;31m---------------------------------------------------------------------------\u001b[0m",
            "\u001b[0;31mHFValidationError\u001b[0m                         Traceback (most recent call last)",
            "\u001b[0;32m/usr/local/lib/python3.10/dist-packages/transformers/utils/hub.py\u001b[0m in \u001b[0;36mcached_file\u001b[0;34m(path_or_repo_id, filename, cache_dir, force_download, resume_download, proxies, token, revision, local_files_only, subfolder, repo_type, user_agent, _raise_exceptions_for_gated_repo, _raise_exceptions_for_missing_entries, _raise_exceptions_for_connection_errors, _commit_hash, **deprecated_kwargs)\u001b[0m\n\u001b[1;32m    401\u001b[0m         \u001b[0;31m# Load from URL or cache if already cached\u001b[0m\u001b[0;34m\u001b[0m\u001b[0;34m\u001b[0m\u001b[0m\n\u001b[0;32m--> 402\u001b[0;31m         resolved_file = hf_hub_download(\n\u001b[0m\u001b[1;32m    403\u001b[0m             \u001b[0mpath_or_repo_id\u001b[0m\u001b[0;34m,\u001b[0m\u001b[0;34m\u001b[0m\u001b[0;34m\u001b[0m\u001b[0m\n",
            "\u001b[0;32m/usr/local/lib/python3.10/dist-packages/huggingface_hub/utils/_validators.py\u001b[0m in \u001b[0;36m_inner_fn\u001b[0;34m(*args, **kwargs)\u001b[0m\n\u001b[1;32m    105\u001b[0m             \u001b[0;32mif\u001b[0m \u001b[0marg_name\u001b[0m \u001b[0;32min\u001b[0m \u001b[0;34m[\u001b[0m\u001b[0;34m\"repo_id\"\u001b[0m\u001b[0;34m,\u001b[0m \u001b[0;34m\"from_id\"\u001b[0m\u001b[0;34m,\u001b[0m \u001b[0;34m\"to_id\"\u001b[0m\u001b[0;34m]\u001b[0m\u001b[0;34m:\u001b[0m\u001b[0;34m\u001b[0m\u001b[0;34m\u001b[0m\u001b[0m\n\u001b[0;32m--> 106\u001b[0;31m                 \u001b[0mvalidate_repo_id\u001b[0m\u001b[0;34m(\u001b[0m\u001b[0marg_value\u001b[0m\u001b[0;34m)\u001b[0m\u001b[0;34m\u001b[0m\u001b[0;34m\u001b[0m\u001b[0m\n\u001b[0m\u001b[1;32m    107\u001b[0m \u001b[0;34m\u001b[0m\u001b[0m\n",
            "\u001b[0;32m/usr/local/lib/python3.10/dist-packages/huggingface_hub/utils/_validators.py\u001b[0m in \u001b[0;36mvalidate_repo_id\u001b[0;34m(repo_id)\u001b[0m\n\u001b[1;32m    153\u001b[0m     \u001b[0;32mif\u001b[0m \u001b[0mrepo_id\u001b[0m\u001b[0;34m.\u001b[0m\u001b[0mcount\u001b[0m\u001b[0;34m(\u001b[0m\u001b[0;34m\"/\"\u001b[0m\u001b[0;34m)\u001b[0m \u001b[0;34m>\u001b[0m \u001b[0;36m1\u001b[0m\u001b[0;34m:\u001b[0m\u001b[0;34m\u001b[0m\u001b[0;34m\u001b[0m\u001b[0m\n\u001b[0;32m--> 154\u001b[0;31m         raise HFValidationError(\n\u001b[0m\u001b[1;32m    155\u001b[0m             \u001b[0;34m\"Repo id must be in the form 'repo_name' or 'namespace/repo_name':\"\u001b[0m\u001b[0;34m\u001b[0m\u001b[0;34m\u001b[0m\u001b[0m\n",
            "\u001b[0;31mHFValidationError\u001b[0m: Repo id must be in the form 'repo_name' or 'namespace/repo_name': './content/drive/MyDrive/Colab Notebooks/DeepPavlov/rubert-base-cased/'. Use `repo_type` argument if needed.",
            "\nThe above exception was the direct cause of the following exception:\n",
            "\u001b[0;31mOSError\u001b[0m                                   Traceback (most recent call last)",
            "\u001b[0;32m<ipython-input-58-20cd8abc0eee>\u001b[0m in \u001b[0;36m<cell line: 7>\u001b[0;34m()\u001b[0m\n\u001b[1;32m      5\u001b[0m \u001b[0;34m\u001b[0m\u001b[0m\n\u001b[1;32m      6\u001b[0m \u001b[0;31m# Load a trained model and vocabulary that you have fine-tuned\u001b[0m\u001b[0;34m\u001b[0m\u001b[0;34m\u001b[0m\u001b[0m\n\u001b[0;32m----> 7\u001b[0;31m \u001b[0mmodel\u001b[0m \u001b[0;34m=\u001b[0m \u001b[0mAutoModelForSequenceClassification\u001b[0m\u001b[0;34m.\u001b[0m\u001b[0mfrom_pretrained\u001b[0m\u001b[0;34m(\u001b[0m\u001b[0moutput_dir\u001b[0m\u001b[0;34m)\u001b[0m\u001b[0;34m\u001b[0m\u001b[0;34m\u001b[0m\u001b[0m\n\u001b[0m\u001b[1;32m      8\u001b[0m \u001b[0mtokenizer\u001b[0m \u001b[0;34m=\u001b[0m \u001b[0mAutoTokenizer\u001b[0m\u001b[0;34m.\u001b[0m\u001b[0mfrom_pretrained\u001b[0m\u001b[0;34m(\u001b[0m\u001b[0moutput_dir\u001b[0m\u001b[0;34m)\u001b[0m\u001b[0;34m\u001b[0m\u001b[0;34m\u001b[0m\u001b[0m\n\u001b[1;32m      9\u001b[0m \u001b[0;34m\u001b[0m\u001b[0m\n",
            "\u001b[0;32m/usr/local/lib/python3.10/dist-packages/transformers/models/auto/auto_factory.py\u001b[0m in \u001b[0;36mfrom_pretrained\u001b[0;34m(cls, pretrained_model_name_or_path, *model_args, **kwargs)\u001b[0m\n\u001b[1;32m    483\u001b[0m             \u001b[0;32mif\u001b[0m \u001b[0;32mnot\u001b[0m \u001b[0misinstance\u001b[0m\u001b[0;34m(\u001b[0m\u001b[0mconfig\u001b[0m\u001b[0;34m,\u001b[0m \u001b[0mPretrainedConfig\u001b[0m\u001b[0;34m)\u001b[0m\u001b[0;34m:\u001b[0m\u001b[0;34m\u001b[0m\u001b[0;34m\u001b[0m\u001b[0m\n\u001b[1;32m    484\u001b[0m                 \u001b[0;31m# We make a call to the config file first (which may be absent) to get the commit hash as soon as possible\u001b[0m\u001b[0;34m\u001b[0m\u001b[0;34m\u001b[0m\u001b[0m\n\u001b[0;32m--> 485\u001b[0;31m                 resolved_config_file = cached_file(\n\u001b[0m\u001b[1;32m    486\u001b[0m                     \u001b[0mpretrained_model_name_or_path\u001b[0m\u001b[0;34m,\u001b[0m\u001b[0;34m\u001b[0m\u001b[0;34m\u001b[0m\u001b[0m\n\u001b[1;32m    487\u001b[0m                     \u001b[0mCONFIG_NAME\u001b[0m\u001b[0;34m,\u001b[0m\u001b[0;34m\u001b[0m\u001b[0;34m\u001b[0m\u001b[0m\n",
            "\u001b[0;32m/usr/local/lib/python3.10/dist-packages/transformers/utils/hub.py\u001b[0m in \u001b[0;36mcached_file\u001b[0;34m(path_or_repo_id, filename, cache_dir, force_download, resume_download, proxies, token, revision, local_files_only, subfolder, repo_type, user_agent, _raise_exceptions_for_gated_repo, _raise_exceptions_for_missing_entries, _raise_exceptions_for_connection_errors, _commit_hash, **deprecated_kwargs)\u001b[0m\n\u001b[1;32m    464\u001b[0m         \u001b[0;32mraise\u001b[0m \u001b[0mEnvironmentError\u001b[0m\u001b[0;34m(\u001b[0m\u001b[0;34mf\"There was a specific connection error when trying to load {path_or_repo_id}:\\n{err}\"\u001b[0m\u001b[0;34m)\u001b[0m\u001b[0;34m\u001b[0m\u001b[0;34m\u001b[0m\u001b[0m\n\u001b[1;32m    465\u001b[0m     \u001b[0;32mexcept\u001b[0m \u001b[0mHFValidationError\u001b[0m \u001b[0;32mas\u001b[0m \u001b[0me\u001b[0m\u001b[0;34m:\u001b[0m\u001b[0;34m\u001b[0m\u001b[0;34m\u001b[0m\u001b[0m\n\u001b[0;32m--> 466\u001b[0;31m         raise EnvironmentError(\n\u001b[0m\u001b[1;32m    467\u001b[0m             \u001b[0;34mf\"Incorrect path_or_model_id: '{path_or_repo_id}'. Please provide either the path to a local folder or the repo_id of a model on the Hub.\"\u001b[0m\u001b[0;34m\u001b[0m\u001b[0;34m\u001b[0m\u001b[0m\n\u001b[1;32m    468\u001b[0m         ) from e\n",
            "\u001b[0;31mOSError\u001b[0m: Incorrect path_or_model_id: './content/drive/MyDrive/Colab Notebooks/DeepPavlov/rubert-base-cased/'. Please provide either the path to a local folder or the repo_id of a model on the Hub."
          ]
        }
      ]
    },
    {
      "cell_type": "markdown",
      "metadata": {
        "id": "rT525N9VbR8n"
      },
      "source": [
        "## Predict on some sample text"
      ]
    },
    {
      "cell_type": "markdown",
      "metadata": {
        "id": "PI_uBpaWxZaY"
      },
      "source": [
        "### Prediction"
      ]
    },
    {
      "cell_type": "code",
      "metadata": {
        "id": "esq849IYbVj2"
      },
      "source": [
        "texts = [\"Heldt hätte kein Problem damit, wenn es in zwei Wochen in der Bundesliga wieder losgehen würde. „Wir lernen gerade alle, Kompromisse einzugehen, an die wir vor Wochen noch nicht gedacht haben.“ Natürlich seien zehn bis 14 Tage richtiges Mannschaftstraining sinnvoll. „Aber vielleicht kriegen wir diese Zeit nicht. Und dann machen wir es so“, ergänzte der langjährige Manager. Köln-Profi Birger Verstraete hält die Maßnahmen nach den drei positiven Corona-Tests derweil für leichtsinnig. „Wir sollten vorerst nicht unter Quarantäne gestellt werden, und das ist ein bisschen bizarr“, sagte der belgische Mittelfeldspieler dem TV-Sender „VTM“. Beim 1. FC Köln waren zwei Spieler und ein Betreuer positiv auf das Coronavirus getestet worden. „Der Physiotherapeut ist der Mann, der mich und andere Spieler wochenlang behandelt hat. Und mit einem der beiden fraglichen Spieler habe ich am Donnerstag im Fitnessstudio ein Duo gebildet“, sagte Verstraete in dem Interview, über das „Het Laatste Nieuws berichtete.\"]"
      ],
      "execution_count": null,
      "outputs": []
    },
    {
      "cell_type": "code",
      "metadata": {
        "id": "X2PSbpD9bcqa"
      },
      "source": [
        "input_ids = []\n",
        "attention_masks = []\n",
        "\n",
        "for text in texts:\n",
        "  encoded_dict = tokenizer.encode_plus(\n",
        "                          text,\n",
        "                          add_special_tokens = True,\n",
        "                          max_length = 64,\n",
        "                          pad_to_max_length = True,\n",
        "                          return_attention_mask = True,\n",
        "                          return_tensors = 'pt')\n",
        "\n",
        "  # Add the encoded sentence to the list.\n",
        "  input_ids.append(encoded_dict['input_ids'])\n",
        "\n",
        "  # And its attention mask (simply differentiates padding from non-padding).\n",
        "  attention_masks.append(encoded_dict['attention_mask'])\n",
        "\n",
        "  # Convert the lists into tensors.\n",
        "  input_ids = torch.cat(input_ids, dim=0)\n",
        "  attention_masks = torch.cat(attention_masks, dim=0)"
      ],
      "execution_count": null,
      "outputs": []
    },
    {
      "cell_type": "code",
      "metadata": {
        "id": "mBv57F46cKST"
      },
      "source": [
        "# Put model in evaluation mode\n",
        "model.eval()\n",
        "\n",
        "predictions = []\n",
        "last_layer_attentions = []\n",
        "\n",
        "# Move input ids and attention masks to GPU\n",
        "input_ids = input_ids.to(device)\n",
        "attention_masks = attention_masks.to(device)\n",
        "\n",
        "for i in range(len(input_ids)):\n",
        "\n",
        "  ids = input_ids[i].unsqueeze(0)\n",
        "  masks = attention_masks[i].unsqueeze(0)\n",
        "\n",
        "  with torch.no_grad():\n",
        "      # Forward pass, calculate logit predictions\n",
        "      outputs = model(input_ids=ids,\n",
        "                      attention_mask=masks)\n",
        "\n",
        "  # Get logits and compute softmax\n",
        "  logits = outputs[0]\n",
        "  logits = torch.softmax(logits,dim=1)\n",
        "  last_layer_attention = outputs[1][-1]\n",
        "\n",
        "  # Move logits and labels to CPU\n",
        "  logits = logits.detach().cpu().numpy()\n",
        "  last_layer_attention = last_layer_attention.detach().cpu().numpy()\n",
        "\n",
        "  last_layer_attentions.append(last_layer_attention)\n",
        "  predictions.append(logits)"
      ],
      "execution_count": null,
      "outputs": []
    },
    {
      "cell_type": "code",
      "metadata": {
        "id": "l8t_Ygply0X3",
        "outputId": "358e0eba-eda2-4a6f-cac5-58bce5169187",
        "colab": {
          "base_uri": "https://localhost:8080/",
          "height": 105
        }
      },
      "source": [
        "probs = predictions[0][0]\n",
        "print(\"text:\", texts[0])\n",
        "print(\"predictions:\", probs)\n",
        "pred_idx = np.argmax(probs)\n",
        "print(f\"Prediction: {label_names[pred_idx]} ({probs[pred_idx]:.2f})\", )"
      ],
      "execution_count": null,
      "outputs": [
        {
          "output_type": "stream",
          "text": [
            "text: Heldt hätte kein Problem damit, wenn es in zwei Wochen in der Bundesliga wieder losgehen würde. „Wir lernen gerade alle, Kompromisse einzugehen, an die wir vor Wochen noch nicht gedacht haben.“ Natürlich seien zehn bis 14 Tage richtiges Mannschaftstraining sinnvoll. „Aber vielleicht kriegen wir diese Zeit nicht. Und dann machen wir es so“, ergänzte der langjährige Manager. Köln-Profi Birger Verstraete hält die Maßnahmen nach den drei positiven Corona-Tests derweil für leichtsinnig. „Wir sollten vorerst nicht unter Quarantäne gestellt werden, und das ist ein bisschen bizarr“, sagte der belgische Mittelfeldspieler dem TV-Sender „VTM“. Beim 1. FC Köln waren zwei Spieler und ein Betreuer positiv auf das Coronavirus getestet worden. „Der Physiotherapeut ist der Mann, der mich und andere Spieler wochenlang behandelt hat. Und mit einem der beiden fraglichen Spieler habe ich am Donnerstag im Fitnessstudio ein Duo gebildet“, sagte Verstraete in dem Interview, über das „Het Laatste Nieuws berichtete.\n",
            "predictions: [1.0679949e-03 8.8444026e-04 3.8669645e-03 1.7328591e-03 7.7026529e-04\n",
            " 9.8628575e-01 9.4877667e-04 3.0755729e-03 1.3673912e-03]\n",
            "Prediction: Sport (0.99)\n"
          ],
          "name": "stdout"
        }
      ]
    },
    {
      "cell_type": "code",
      "metadata": {
        "id": "Hi9mhLaryMNS",
        "outputId": "da989ec5-5025-4677-8d85-76995910a966",
        "colab": {
          "base_uri": "https://localhost:8080/",
          "height": 424
        }
      },
      "source": [
        "fig = plt.figure(tight_layout=True)\n",
        "ax = fig.add_subplot(1, 1, 1)\n",
        "\n",
        "y_pos = np.arange(len(label_names))\n",
        "confidences = [probs[i] for i in range(len(label_names))]\n",
        "\n",
        "ax.barh(y_pos, confidences, align='center')\n",
        "ax.set_yticks(y_pos)\n",
        "ax.set_yticklabels(label_names)\n",
        "ax.invert_yaxis()  # labels read top-to-bottom\n",
        "ax.set_xlabel('Confidence')\n",
        "\n",
        "fig.show()"
      ],
      "execution_count": null,
      "outputs": [
        {
          "output_type": "display_data",
          "data": {
            "image/png": "[encoded data removed]",
            "text/plain": [
              "<Figure size 864x432 with 1 Axes>"
            ]
          },
          "metadata": {
            "tags": []
          }
        }
      ]
    },
    {
      "cell_type": "markdown",
      "metadata": {
        "id": "ofcRyMHTxh_f"
      },
      "source": [
        "### Visualize Attentions\n",
        "\n",
        "For each token, visualize the average over all 12 heads of the last layer's attention to the special character [CLS]. The darker the background of the token, the higher its attention"
      ]
    },
    {
      "cell_type": "code",
      "metadata": {
        "id": "e3r6jQpFKWWb"
      },
      "source": [
        "lla = last_layer_attentions[0][0][:,0,:]"
      ],
      "execution_count": null,
      "outputs": []
    },
    {
      "cell_type": "code",
      "metadata": {
        "id": "aDiU0fPDTgkF"
      },
      "source": [
        "def avg_token_attentions(last_layer_attentions):\n",
        "  return last_layer_attentions.mean(axis=0)"
      ],
      "execution_count": null,
      "outputs": []
    },
    {
      "cell_type": "code",
      "metadata": {
        "id": "4iYtEu5vhJPM"
      },
      "source": [
        "avg_token_atts = avg_token_attentions(lla)\n",
        "tokens = tokenizer.convert_ids_to_tokens(input_ids[0])"
      ],
      "execution_count": null,
      "outputs": []
    },
    {
      "cell_type": "code",
      "metadata": {
        "id": "Mpp6Q3EHoovo"
      },
      "source": [
        "def handle_special_token_attentions(tokens, avg_token_atts):\n",
        "  new_tokens = []\n",
        "  new_avg_token_atts = []\n",
        "  for i in range(len(tokens)):\n",
        "    if tokens[i].startswith(\"[\") or tokens[i].startswith(\"##\"):\n",
        "      continue\n",
        "    if i < tokenizer.max_len - 1 and tokens[i+1].startswith(\"##\"):\n",
        "      merged_tokens = tokens[i] + tokens[i+1][2:]\n",
        "      atts = [avg_token_atts[i], avg_token_atts[i+1]]\n",
        "      i += 1\n",
        "      while i < tokenizer.max_len - 1 and tokens[i+1].startswith(\"##\"):\n",
        "        merged_tokens += tokens[i+1][2:]\n",
        "        atts.append(avg_token_atts[i+1])\n",
        "        i += 1\n",
        "      new_tokens.append(merged_tokens)\n",
        "      new_avg_token_atts.append(sum(atts)/len(atts))\n",
        "    elif i < tokenizer.max_len - 1:\n",
        "      new_tokens.append(tokens[i])\n",
        "      new_avg_token_atts.append(avg_token_atts[i])\n",
        "  new_avg_token_atts = new_avg_token_atts / sum(new_avg_token_atts)\n",
        "  return new_tokens, new_avg_token_atts"
      ],
      "execution_count": null,
      "outputs": []
    },
    {
      "cell_type": "code",
      "metadata": {
        "id": "MC7Y8NcVq3w3"
      },
      "source": [
        "tokens, avg_token_atts = handle_special_token_attentions(tokens, avg_token_atts)"
      ],
      "execution_count": null,
      "outputs": []
    },
    {
      "cell_type": "code",
      "metadata": {
        "id": "ZrCl0RbXmu2W",
        "outputId": "c616553f-624b-4e16-9c6f-019795991521",
        "colab": {
          "base_uri": "https://localhost:8080/",
          "height": 884
        }
      },
      "source": [
        "for token, att in zip(tokens, avg_token_atts):\n",
        "  print(token, att)"
      ],
      "execution_count": null,
      "outputs": [
        {
          "output_type": "stream",
          "text": [
            "Heldt 0.05963272150050977\n",
            "hätte 0.05842705044356964\n",
            "kein 0.015847744346937087\n",
            "Problem 0.01636351010862091\n",
            "damit 0.013772409461545421\n",
            ", 0.036807565532129716\n",
            "wenn 0.03087712355309333\n",
            "es 0.024819269697866908\n",
            "in 0.018017946361961145\n",
            "zwei 0.017895302157496278\n",
            "Wochen 0.03003063986432607\n",
            "in 0.025940210667872093\n",
            "der 0.023251029511036282\n",
            "Bundesliga 0.05716164042458836\n",
            "wieder 0.01203980647078767\n",
            "losgehen 0.00583129451285671\n",
            "würde 0.03879455071515468\n",
            ". 0.12072620863387562\n",
            "Wir 0.019060273146967795\n",
            "lernen 0.012353933512564218\n",
            "gerade 0.00628229120688047\n",
            "alle 0.010505001215702199\n",
            ", 0.012323023127170943\n",
            "Kompromisse 0.0056848631707390965\n",
            "einzugehen 0.002722717941780326\n",
            ", 0.005047595520602355\n",
            "an 0.0018329884443071581\n",
            "die 0.0032613291405828838\n",
            "wir 0.013254898654295608\n",
            "vor 0.0036984695310786435\n",
            "Wochen 0.013122986397435385\n",
            "noch 0.001867398487968193\n",
            "nicht 0.0013720230891756517\n",
            "gedacht 0.0011624416595517478\n",
            "haben 0.005847323292139942\n",
            ". 0.0359342915081955\n",
            "Natürlich 0.0063752301906867415\n",
            "seien 0.011021791396847837\n",
            "zehn 0.004314394078787275\n",
            "bis 0.010067432806270381\n",
            "14 0.00470361136148839\n",
            "Tage 0.007221872841094629\n",
            "richtiges 0.006858679639577968\n",
            "Mannschaftstraining 0.027314170292516007\n",
            "sinnvoll 0.00564797832983223\n",
            ". 0.02234715007256007\n",
            "Aber 0.014534143045985954\n",
            "vielleicht 0.02090649367599008\n",
            "kriegen 0.023371325204447596\n",
            "wir 0.023200140591150317\n",
            "diese 0.050545713461398724\n"
          ],
          "name": "stdout"
        }
      ]
    },
    {
      "cell_type": "code",
      "metadata": {
        "id": "Sa9tlNnqvgm5"
      },
      "source": [
        "def scale_color_h_hex(c_h, scale):\n",
        "    return matplotlib.colors.to_hex(\n",
        "        matplotlib.colors.hsv_to_rgb((c_h, scale, 1)))\n",
        "\n",
        "def blue_background_hex(scale):\n",
        "    return scale_color_h_hex(0.625, scale)"
      ],
      "execution_count": null,
      "outputs": []
    },
    {
      "cell_type": "code",
      "metadata": {
        "id": "js7LWFLMxoeA"
      },
      "source": [
        "att_html = \"<table><tr>\"\n",
        "for token, att in zip(tokens, avg_token_atts):\n",
        "  att_html += \"<td>\"\n",
        "  att_html += \"<span style=\\\"background-color: \" + blue_background_hex(att) + \"\\\">\" + token + \"</span>\"\n",
        "  att_html += \"</td>\"\n",
        "att_html += \"</tr>\""
      ],
      "execution_count": null,
      "outputs": []
    },
    {
      "cell_type": "code",
      "metadata": {
        "id": "Ybnrhz1mzfw1",
        "outputId": "1d8d6735-0f1d-484d-efbc-baacd728ea83",
        "colab": {
          "base_uri": "https://localhost:8080/",
          "height": 60
        }
      },
      "source": [
        "IPython.display.HTML(att_html)"
      ],
      "execution_count": null,
      "outputs": [
        {
          "output_type": "execute_result",
          "data": {
            "text/html": [
              "<table><tr><td><span style=\"background-color: #f0f4ff\">Heldt</span></td><td><span style=\"background-color: #f0f4ff\">hätte</span></td><td><span style=\"background-color: #fbfcff\">kein</span></td><td><span style=\"background-color: #fbfcff\">Problem</span></td><td><span style=\"background-color: #fbfcff\">damit</span></td><td><span style=\"background-color: #f6f8ff\">,</span></td><td><span style=\"background-color: #f7f9ff\">wenn</span></td><td><span style=\"background-color: #f9faff\">es</span></td><td><span style=\"background-color: #fafcff\">in</span></td><td><span style=\"background-color: #fafcff\">zwei</span></td><td><span style=\"background-color: #f7f9ff\">Wochen</span></td><td><span style=\"background-color: #f8faff\">in</span></td><td><span style=\"background-color: #f9fbff\">der</span></td><td><span style=\"background-color: #f0f4ff\">Bundesliga</span></td><td><span style=\"background-color: #fcfdff\">wieder</span></td><td><span style=\"background-color: #fefeff\">losgehen</span></td><td><span style=\"background-color: #f5f8ff\">würde</span></td><td><span style=\"background-color: #e0e8ff\">.</span></td><td><span style=\"background-color: #fafbff\">Wir</span></td><td><span style=\"background-color: #fcfdff\">lernen</span></td><td><span style=\"background-color: #fdfeff\">gerade</span></td><td><span style=\"background-color: #fcfdff\">alle</span></td><td><span style=\"background-color: #fcfdff\">,</span></td><td><span style=\"background-color: #fefeff\">Kompromisse</span></td><td><span style=\"background-color: #fefeff\">einzugehen</span></td><td><span style=\"background-color: #fefeff\">,</span></td><td><span style=\"background-color: #ffffff\">an</span></td><td><span style=\"background-color: #fefeff\">die</span></td><td><span style=\"background-color: #fcfcff\">wir</span></td><td><span style=\"background-color: #fefeff\">vor</span></td><td><span style=\"background-color: #fcfcff\">Wochen</span></td><td><span style=\"background-color: #ffffff\">noch</span></td><td><span style=\"background-color: #ffffff\">nicht</span></td><td><span style=\"background-color: #ffffff\">gedacht</span></td><td><span style=\"background-color: #fefeff\">haben</span></td><td><span style=\"background-color: #f6f8ff\">.</span></td><td><span style=\"background-color: #fdfeff\">Natürlich</span></td><td><span style=\"background-color: #fcfdff\">seien</span></td><td><span style=\"background-color: #fefeff\">zehn</span></td><td><span style=\"background-color: #fcfdff\">bis</span></td><td><span style=\"background-color: #fefeff\">14</span></td><td><span style=\"background-color: #fdfeff\">Tage</span></td><td><span style=\"background-color: #fdfeff\">richtiges</span></td><td><span style=\"background-color: #f8faff\">Mannschaftstraining</span></td><td><span style=\"background-color: #fefeff\">sinnvoll</span></td><td><span style=\"background-color: #f9fbff\">.</span></td><td><span style=\"background-color: #fbfcff\">Aber</span></td><td><span style=\"background-color: #fafbff\">vielleicht</span></td><td><span style=\"background-color: #f9fbff\">kriegen</span></td><td><span style=\"background-color: #f9fbff\">wir</span></td><td><span style=\"background-color: #f2f5ff\">diese</span></td></tr>"
            ],
            "text/plain": [
              "<IPython.core.display.HTML object>"
            ]
          },
          "metadata": {
            "tags": []
          },
          "execution_count": 82
        }
      ]
    },
    {
      "cell_type": "code",
      "metadata": {
        "id": "YJLGG1jmzszh"
      },
      "source": [],
      "execution_count": null,
      "outputs": []
    }
  ]
}